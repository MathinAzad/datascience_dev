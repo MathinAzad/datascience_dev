{
 "cells": [
  {
   "cell_type": "code",
   "execution_count": 1,
   "metadata": {},
   "outputs": [],
   "source": [
    "import numpy as np\n",
    "import pandas as pd\n",
    "import scipy\n",
    "from scipy.stats import binom, hypergeom\n",
    "from sklearn.linear_model import LogisticRegression"
   ]
  },
  {
   "cell_type": "markdown",
   "metadata": {},
   "source": [
    "Data from http://users.nber.org/%7Erdehejia/nswdata2.html\n",
    "\n",
    "The variables from left to right are: treatment indicator (1 if treated, 0 if not treated), age, education, Black (1 if black, 0 otherwise), Hispanic (1 if Hispanic, 0 otherwise), married (1 if married, 0 otherwise), nodegree (1 if no degree, 0 otherwise), RE74 (earnings in 1974), RE75 (earnings in 1975), and RE78 (earnings in 1978)."
   ]
  },
  {
   "cell_type": "code",
   "execution_count": 2,
   "metadata": {},
   "outputs": [],
   "source": [
    "col_names = ['treated', 'age', 'education', 'black', 'hispanic', 'married', 'nodegree', 're74', 're75', 're78']\n",
    "treated = pd.read_table('data/nswre74_treated.txt',sep='\\s+', header=None, names=col_names)\n",
    "control = pd.read_table('data/nswre74_control.txt',sep='\\s+', header=None, names=col_names)\n",
    "data = pd.concat([treated, control])"
   ]
  },
  {
   "cell_type": "code",
   "execution_count": 3,
   "metadata": {},
   "outputs": [],
   "source": [
    "lor = LogisticRegression()\n",
    "propensity = lor.fit(data[col_names[1:]], data.treated)\n",
    "pscore = propensity.predict_proba(data[col_names[1:]])[:,1]\n",
    "\n",
    "data['prop_score'] = pscore"
   ]
  },
  {
   "cell_type": "code",
   "execution_count": 4,
   "metadata": {},
   "outputs": [
    {
     "data": {
      "text/html": [
       "<div>\n",
       "<style scoped>\n",
       "    .dataframe tbody tr th:only-of-type {\n",
       "        vertical-align: middle;\n",
       "    }\n",
       "\n",
       "    .dataframe tbody tr th {\n",
       "        vertical-align: top;\n",
       "    }\n",
       "\n",
       "    .dataframe thead th {\n",
       "        text-align: right;\n",
       "    }\n",
       "</style>\n",
       "<table border=\"1\" class=\"dataframe\">\n",
       "  <thead>\n",
       "    <tr style=\"text-align: right;\">\n",
       "      <th></th>\n",
       "      <th>treated</th>\n",
       "      <th>age</th>\n",
       "      <th>education</th>\n",
       "      <th>black</th>\n",
       "      <th>hispanic</th>\n",
       "      <th>married</th>\n",
       "      <th>nodegree</th>\n",
       "      <th>re74</th>\n",
       "      <th>re75</th>\n",
       "      <th>re78</th>\n",
       "      <th>prop_score</th>\n",
       "    </tr>\n",
       "  </thead>\n",
       "  <tbody>\n",
       "    <tr>\n",
       "      <th>0</th>\n",
       "      <td>1.0</td>\n",
       "      <td>37.0</td>\n",
       "      <td>11.0</td>\n",
       "      <td>1.0</td>\n",
       "      <td>0.0</td>\n",
       "      <td>1.0</td>\n",
       "      <td>1.0</td>\n",
       "      <td>0.0</td>\n",
       "      <td>0.0</td>\n",
       "      <td>9930.0460</td>\n",
       "      <td>0.472255</td>\n",
       "    </tr>\n",
       "    <tr>\n",
       "      <th>1</th>\n",
       "      <td>1.0</td>\n",
       "      <td>22.0</td>\n",
       "      <td>9.0</td>\n",
       "      <td>0.0</td>\n",
       "      <td>1.0</td>\n",
       "      <td>0.0</td>\n",
       "      <td>1.0</td>\n",
       "      <td>0.0</td>\n",
       "      <td>0.0</td>\n",
       "      <td>3595.8940</td>\n",
       "      <td>0.240599</td>\n",
       "    </tr>\n",
       "    <tr>\n",
       "      <th>2</th>\n",
       "      <td>1.0</td>\n",
       "      <td>30.0</td>\n",
       "      <td>12.0</td>\n",
       "      <td>1.0</td>\n",
       "      <td>0.0</td>\n",
       "      <td>0.0</td>\n",
       "      <td>0.0</td>\n",
       "      <td>0.0</td>\n",
       "      <td>0.0</td>\n",
       "      <td>24909.4500</td>\n",
       "      <td>0.723242</td>\n",
       "    </tr>\n",
       "    <tr>\n",
       "      <th>3</th>\n",
       "      <td>1.0</td>\n",
       "      <td>27.0</td>\n",
       "      <td>11.0</td>\n",
       "      <td>1.0</td>\n",
       "      <td>0.0</td>\n",
       "      <td>0.0</td>\n",
       "      <td>1.0</td>\n",
       "      <td>0.0</td>\n",
       "      <td>0.0</td>\n",
       "      <td>7506.1460</td>\n",
       "      <td>0.399273</td>\n",
       "    </tr>\n",
       "    <tr>\n",
       "      <th>4</th>\n",
       "      <td>1.0</td>\n",
       "      <td>33.0</td>\n",
       "      <td>8.0</td>\n",
       "      <td>1.0</td>\n",
       "      <td>0.0</td>\n",
       "      <td>0.0</td>\n",
       "      <td>1.0</td>\n",
       "      <td>0.0</td>\n",
       "      <td>0.0</td>\n",
       "      <td>289.7899</td>\n",
       "      <td>0.363913</td>\n",
       "    </tr>\n",
       "  </tbody>\n",
       "</table>\n",
       "</div>"
      ],
      "text/plain": [
       "   treated   age  education  black  hispanic  married  nodegree  re74  re75  \\\n",
       "0      1.0  37.0       11.0    1.0       0.0      1.0       1.0   0.0   0.0   \n",
       "1      1.0  22.0        9.0    0.0       1.0      0.0       1.0   0.0   0.0   \n",
       "2      1.0  30.0       12.0    1.0       0.0      0.0       0.0   0.0   0.0   \n",
       "3      1.0  27.0       11.0    1.0       0.0      0.0       1.0   0.0   0.0   \n",
       "4      1.0  33.0        8.0    1.0       0.0      0.0       1.0   0.0   0.0   \n",
       "\n",
       "         re78  prop_score  \n",
       "0   9930.0460    0.472255  \n",
       "1   3595.8940    0.240599  \n",
       "2  24909.4500    0.723242  \n",
       "3   7506.1460    0.399273  \n",
       "4    289.7899    0.363913  "
      ]
     },
     "execution_count": 4,
     "metadata": {},
     "output_type": "execute_result"
    }
   ],
   "source": [
    "data.head()"
   ]
  },
  {
   "cell_type": "markdown",
   "metadata": {},
   "source": [
    "### One to One matching without replacement"
   ]
  },
  {
   "cell_type": "code",
   "execution_count": 5,
   "metadata": {},
   "outputs": [],
   "source": [
    "np.random.seed(10)\n",
    "\n",
    "def Match(groups, pscore, caliper=0.05):\n",
    "    '''\n",
    "    Inputs: \n",
    "    groups = indicator to identify control and study group. Must be two groups. Number of treated (study) records should be\n",
    "            smaller than untreated (control) records.\n",
    "    pscore = propensity scores for each observation. Groups and pscore must be in the same order ( same indices).\n",
    "    caliper = maximum difference in matched propensity scores.\n",
    "    \n",
    "    '''\n",
    "    if any(pscore <= 0) or any(pscore >= 1):\n",
    "        raise ValueError('Propensity scores must be between 0 and 1')\n",
    "    elif not(0<caliper<1):\n",
    "        raise ValueError('Caliper must be between 0 and 1')\n",
    "    elif len(groups) != len(pscore):\n",
    "        raise ValueError('groups and pscore must have same dimension')\n",
    "    elif len(groups.unique()) != 2:\n",
    "        raise ValueError('wrong number of groups')\n",
    "     \n",
    "    \n",
    "    groups = groups == groups.unique()[0]\n",
    "    N = len(groups)\n",
    "    N1 = groups.sum(); \n",
    "    N2 = N - N1;\n",
    "    g1, g2 = (pscore[groups == 1]),(pscore[groups == 0])\n",
    "    # N1 is study, N2 is control\n",
    "    # assuming number of study groups is less than control groups\n",
    "    if N1 > N2:\n",
    "        N1, N2, g1, g2 = N2, N1, g2, g1\n",
    "\n",
    "    if (N1 != len(g1)) or (N2 != len(g2)):\n",
    "        raise ValueError('Number of study records must be less than control records')\n",
    "\n",
    "    morder = np.random.permutation(N1)\n",
    "    matches = pd.Series(np.empty(N1))\n",
    "    matches[:] = np.NAN\n",
    "\n",
    "    for m in morder:\n",
    "        dist = abs(g1[m] - g2)\n",
    "        if dist.min() <= caliper:\n",
    "            matches[m] = dist.idxmin()\n",
    "            g2 = g2.drop(matches[m])\n",
    "\n",
    "    return matches\n",
    "        \n",
    "        \n",
    "        "
   ]
  },
  {
   "cell_type": "code",
   "execution_count": 6,
   "metadata": {},
   "outputs": [],
   "source": [
    "matches = Match(data.treated, data.prop_score)"
   ]
  },
  {
   "cell_type": "code",
   "execution_count": 7,
   "metadata": {},
   "outputs": [],
   "source": [
    "g1, g2 = data.prop_score[data.treated == 1], data.prop_score[data.treated == 0]"
   ]
  },
  {
   "cell_type": "code",
   "execution_count": 26,
   "metadata": {},
   "outputs": [],
   "source": [
    "study_grp, control_grp = data[data.treated == 1], data[data.treated == 0]\n"
   ]
  },
  {
   "cell_type": "code",
   "execution_count": 18,
   "metadata": {},
   "outputs": [],
   "source": [
    "study = pd.DataFrame(g1).reset_index()\n",
    "study.columns = ['std_indx', 'std_pscore']\n",
    "control = pd.DataFrame(g2[matches]).reset_index()\n",
    "control.columns = ['ctl_indx', 'ctl_pscore']\n"
   ]
  },
  {
   "cell_type": "code",
   "execution_count": 19,
   "metadata": {},
   "outputs": [
    {
     "data": {
      "text/html": [
       "<div>\n",
       "<style scoped>\n",
       "    .dataframe tbody tr th:only-of-type {\n",
       "        vertical-align: middle;\n",
       "    }\n",
       "\n",
       "    .dataframe tbody tr th {\n",
       "        vertical-align: top;\n",
       "    }\n",
       "\n",
       "    .dataframe thead th {\n",
       "        text-align: right;\n",
       "    }\n",
       "</style>\n",
       "<table border=\"1\" class=\"dataframe\">\n",
       "  <thead>\n",
       "    <tr style=\"text-align: right;\">\n",
       "      <th></th>\n",
       "      <th>std_indx</th>\n",
       "      <th>std_pscore</th>\n",
       "      <th>ctl_indx</th>\n",
       "      <th>ctl_pscore</th>\n",
       "    </tr>\n",
       "  </thead>\n",
       "  <tbody>\n",
       "    <tr>\n",
       "      <th>0</th>\n",
       "      <td>0</td>\n",
       "      <td>0.472255</td>\n",
       "      <td>216.0</td>\n",
       "      <td>0.471468</td>\n",
       "    </tr>\n",
       "    <tr>\n",
       "      <th>1</th>\n",
       "      <td>1</td>\n",
       "      <td>0.240599</td>\n",
       "      <td>84.0</td>\n",
       "      <td>0.241766</td>\n",
       "    </tr>\n",
       "    <tr>\n",
       "      <th>2</th>\n",
       "      <td>2</td>\n",
       "      <td>0.723242</td>\n",
       "      <td>207.0</td>\n",
       "      <td>0.687753</td>\n",
       "    </tr>\n",
       "    <tr>\n",
       "      <th>3</th>\n",
       "      <td>3</td>\n",
       "      <td>0.399273</td>\n",
       "      <td>215.0</td>\n",
       "      <td>0.399432</td>\n",
       "    </tr>\n",
       "    <tr>\n",
       "      <th>4</th>\n",
       "      <td>4</td>\n",
       "      <td>0.363913</td>\n",
       "      <td>115.0</td>\n",
       "      <td>0.363703</td>\n",
       "    </tr>\n",
       "  </tbody>\n",
       "</table>\n",
       "</div>"
      ],
      "text/plain": [
       "   std_indx  std_pscore  ctl_indx  ctl_pscore\n",
       "0         0    0.472255     216.0    0.471468\n",
       "1         1    0.240599      84.0    0.241766\n",
       "2         2    0.723242     207.0    0.687753\n",
       "3         3    0.399273     215.0    0.399432\n",
       "4         4    0.363913     115.0    0.363703"
      ]
     },
     "execution_count": 19,
     "metadata": {},
     "output_type": "execute_result"
    }
   ],
   "source": [
    "final_df = study.join(control)\n",
    "final_df.head()"
   ]
  },
  {
   "cell_type": "markdown",
   "metadata": {},
   "source": [
    "### Records from study group matched with records from control group. With index we can see with study record matched with which control record ( from study_grp and control_grp)."
   ]
  }
 ],
 "metadata": {
  "kernelspec": {
   "display_name": "Python 3",
   "language": "python",
   "name": "python3"
  },
  "language_info": {
   "codemirror_mode": {
    "name": "ipython",
    "version": 3
   },
   "file_extension": ".py",
   "mimetype": "text/x-python",
   "name": "python",
   "nbconvert_exporter": "python",
   "pygments_lexer": "ipython3",
   "version": "3.4.7"
  }
 },
 "nbformat": 4,
 "nbformat_minor": 2
}
