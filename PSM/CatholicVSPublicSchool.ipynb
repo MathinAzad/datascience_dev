{
 "cells": [
  {
   "cell_type": "markdown",
   "metadata": {},
   "source": [
    "## Examine the effect of going to Catholic school vs Public school.\n",
    "#### Data from 'Early Childhood Longitudinal Study' is downloaded from https://www.researchconnections.org/childcare/studies/4075?q=c5r2mtsc&type=Data+Sets\n",
    "Data preprocessing work is based on the work of sejdemyr 'https://github.com/sejdemyr/ecls'."
   ]
  },
  {
   "cell_type": "code",
   "execution_count": 147,
   "metadata": {},
   "outputs": [],
   "source": [
    "import sys\n",
    "sys.path.append('/analytics/shared/packages/')"
   ]
  },
  {
   "cell_type": "code",
   "execution_count": 148,
   "metadata": {},
   "outputs": [],
   "source": [
    "import pandas as pd\n",
    "from scipy import stats\n",
    "from sklearn.linear_model import LogisticRegression\n",
    "import statsmodels.discrete.discrete_model as sm\n",
    "from statsmodels.formula import api\n",
    "from patsy import dmatrices\n",
    "import matplotlib.pyplot as plt\n",
    "import seaborn as sns\n",
    "%matplotlib inline"
   ]
  },
  {
   "cell_type": "code",
   "execution_count": 149,
   "metadata": {},
   "outputs": [],
   "source": [
    "import numpy as np"
   ]
  },
  {
   "cell_type": "code",
   "execution_count": 150,
   "metadata": {},
   "outputs": [
    {
     "data": {
      "text/html": [
       "<div>\n",
       "<style scoped>\n",
       "    .dataframe tbody tr th:only-of-type {\n",
       "        vertical-align: middle;\n",
       "    }\n",
       "\n",
       "    .dataframe tbody tr th {\n",
       "        vertical-align: top;\n",
       "    }\n",
       "\n",
       "    .dataframe thead th {\n",
       "        text-align: right;\n",
       "    }\n",
       "</style>\n",
       "<table border=\"1\" class=\"dataframe\">\n",
       "  <thead>\n",
       "    <tr style=\"text-align: right;\">\n",
       "      <th></th>\n",
       "      <th>childid</th>\n",
       "      <th>catholic</th>\n",
       "      <th>race</th>\n",
       "      <th>race_white</th>\n",
       "      <th>race_black</th>\n",
       "      <th>race_hispanic</th>\n",
       "      <th>race_asian</th>\n",
       "      <th>p5numpla</th>\n",
       "      <th>p5hmage</th>\n",
       "      <th>p5hdage</th>\n",
       "      <th>...</th>\n",
       "      <th>w3daded_hsb</th>\n",
       "      <th>w3momed_hsb</th>\n",
       "      <th>w3momscr</th>\n",
       "      <th>w3dadscr</th>\n",
       "      <th>w3inccat</th>\n",
       "      <th>w3income</th>\n",
       "      <th>w3povrty</th>\n",
       "      <th>p5fstamp</th>\n",
       "      <th>c5r2mtsc</th>\n",
       "      <th>c5r2mtsc_std</th>\n",
       "    </tr>\n",
       "  </thead>\n",
       "  <tbody>\n",
       "    <tr>\n",
       "      <th>4800</th>\n",
       "      <td>0606009C</td>\n",
       "      <td>0</td>\n",
       "      <td>BLACK OR AFRICAN AMERICAN, NON-HISPANIC</td>\n",
       "      <td>0</td>\n",
       "      <td>1</td>\n",
       "      <td>0</td>\n",
       "      <td>0</td>\n",
       "      <td>1.0</td>\n",
       "      <td>41.0</td>\n",
       "      <td>47.0</td>\n",
       "      <td>...</td>\n",
       "      <td>0.0</td>\n",
       "      <td>1.0</td>\n",
       "      <td>38.18</td>\n",
       "      <td>33.42</td>\n",
       "      <td>$200,001 TO $200,001</td>\n",
       "      <td>200001.0</td>\n",
       "      <td>0.0</td>\n",
       "      <td>0.0</td>\n",
       "      <td>44.839</td>\n",
       "      <td>-0.583397</td>\n",
       "    </tr>\n",
       "    <tr>\n",
       "      <th>8454</th>\n",
       "      <td>1078009C</td>\n",
       "      <td>0</td>\n",
       "      <td>HISPANIC, RACE NOT SPECIFIED</td>\n",
       "      <td>0</td>\n",
       "      <td>0</td>\n",
       "      <td>1</td>\n",
       "      <td>0</td>\n",
       "      <td>2.0</td>\n",
       "      <td>29.0</td>\n",
       "      <td>34.0</td>\n",
       "      <td>...</td>\n",
       "      <td>1.0</td>\n",
       "      <td>1.0</td>\n",
       "      <td>NaN</td>\n",
       "      <td>39.20</td>\n",
       "      <td>$35,001 TO $40,000</td>\n",
       "      <td>37500.5</td>\n",
       "      <td>0.0</td>\n",
       "      <td>0.0</td>\n",
       "      <td>36.430</td>\n",
       "      <td>-1.449048</td>\n",
       "    </tr>\n",
       "    <tr>\n",
       "      <th>7648</th>\n",
       "      <td>0947019C</td>\n",
       "      <td>0</td>\n",
       "      <td>HISPANIC, RACE NOT SPECIFIED</td>\n",
       "      <td>0</td>\n",
       "      <td>0</td>\n",
       "      <td>1</td>\n",
       "      <td>0</td>\n",
       "      <td>1.0</td>\n",
       "      <td>39.0</td>\n",
       "      <td>44.0</td>\n",
       "      <td>...</td>\n",
       "      <td>0.0</td>\n",
       "      <td>1.0</td>\n",
       "      <td>34.95</td>\n",
       "      <td>34.95</td>\n",
       "      <td>$10,001 TO $15,000</td>\n",
       "      <td>12500.5</td>\n",
       "      <td>1.0</td>\n",
       "      <td>1.0</td>\n",
       "      <td>57.786</td>\n",
       "      <td>0.749410</td>\n",
       "    </tr>\n",
       "    <tr>\n",
       "      <th>2281</th>\n",
       "      <td>0306001C</td>\n",
       "      <td>1</td>\n",
       "      <td>WHITE, NON-HISPANIC</td>\n",
       "      <td>1</td>\n",
       "      <td>0</td>\n",
       "      <td>0</td>\n",
       "      <td>0</td>\n",
       "      <td>1.0</td>\n",
       "      <td>40.0</td>\n",
       "      <td>42.0</td>\n",
       "      <td>...</td>\n",
       "      <td>0.0</td>\n",
       "      <td>0.0</td>\n",
       "      <td>NaN</td>\n",
       "      <td>48.69</td>\n",
       "      <td>$40,001 TO $50,000</td>\n",
       "      <td>45000.5</td>\n",
       "      <td>0.0</td>\n",
       "      <td>0.0</td>\n",
       "      <td>55.158</td>\n",
       "      <td>0.478875</td>\n",
       "    </tr>\n",
       "    <tr>\n",
       "      <th>7225</th>\n",
       "      <td>0882018C</td>\n",
       "      <td>0</td>\n",
       "      <td>WHITE, NON-HISPANIC</td>\n",
       "      <td>1</td>\n",
       "      <td>0</td>\n",
       "      <td>0</td>\n",
       "      <td>0</td>\n",
       "      <td>2.0</td>\n",
       "      <td>NaN</td>\n",
       "      <td>38.0</td>\n",
       "      <td>...</td>\n",
       "      <td>0.0</td>\n",
       "      <td>NaN</td>\n",
       "      <td>NaN</td>\n",
       "      <td>52.54</td>\n",
       "      <td>$30,001 TO $35,000</td>\n",
       "      <td>32500.5</td>\n",
       "      <td>0.0</td>\n",
       "      <td>0.0</td>\n",
       "      <td>49.383</td>\n",
       "      <td>-0.115623</td>\n",
       "    </tr>\n",
       "  </tbody>\n",
       "</table>\n",
       "<p>5 rows × 22 columns</p>\n",
       "</div>"
      ],
      "text/plain": [
       "       childid  catholic                                     race  race_white  \\\n",
       "4800  0606009C         0  BLACK OR AFRICAN AMERICAN, NON-HISPANIC           0   \n",
       "8454  1078009C         0             HISPANIC, RACE NOT SPECIFIED           0   \n",
       "7648  0947019C         0             HISPANIC, RACE NOT SPECIFIED           0   \n",
       "2281  0306001C         1                      WHITE, NON-HISPANIC           1   \n",
       "7225  0882018C         0                      WHITE, NON-HISPANIC           1   \n",
       "\n",
       "      race_black  race_hispanic  race_asian  p5numpla  p5hmage  p5hdage  \\\n",
       "4800           1              0           0       1.0     41.0     47.0   \n",
       "8454           0              1           0       2.0     29.0     34.0   \n",
       "7648           0              1           0       1.0     39.0     44.0   \n",
       "2281           0              0           0       1.0     40.0     42.0   \n",
       "7225           0              0           0       2.0      NaN     38.0   \n",
       "\n",
       "          ...      w3daded_hsb w3momed_hsb  w3momscr  w3dadscr  \\\n",
       "4800      ...              0.0         1.0     38.18     33.42   \n",
       "8454      ...              1.0         1.0       NaN     39.20   \n",
       "7648      ...              0.0         1.0     34.95     34.95   \n",
       "2281      ...              0.0         0.0       NaN     48.69   \n",
       "7225      ...              0.0         NaN       NaN     52.54   \n",
       "\n",
       "                  w3inccat  w3income w3povrty  p5fstamp  c5r2mtsc  \\\n",
       "4800  $200,001 TO $200,001  200001.0      0.0       0.0    44.839   \n",
       "8454    $35,001 TO $40,000   37500.5      0.0       0.0    36.430   \n",
       "7648    $10,001 TO $15,000   12500.5      1.0       1.0    57.786   \n",
       "2281    $40,001 TO $50,000   45000.5      0.0       0.0    55.158   \n",
       "7225    $30,001 TO $35,000   32500.5      0.0       0.0    49.383   \n",
       "\n",
       "      c5r2mtsc_std  \n",
       "4800     -0.583397  \n",
       "8454     -1.449048  \n",
       "7648      0.749410  \n",
       "2281      0.478875  \n",
       "7225     -0.115623  \n",
       "\n",
       "[5 rows x 22 columns]"
      ]
     },
     "execution_count": 150,
     "metadata": {},
     "output_type": "execute_result"
    }
   ],
   "source": [
    "df = pd.read_csv('data/ecls.csv', encoding='UTF-8')\n",
    "df.sample(5)"
   ]
  },
  {
   "cell_type": "markdown",
   "metadata": {},
   "source": [
    "## 1.Pre-Analysis using non-matched data\n",
    "### 1.1 Difference in means: outcome variables"
   ]
  },
  {
   "cell_type": "markdown",
   "metadata": {},
   "source": [
    "Looking at students standaridized match score (c5r2mtsc_std) of students from catholic ( catholic = 1) and public (catholic = 0) schools."
   ]
  },
  {
   "cell_type": "code",
   "execution_count": 151,
   "metadata": {},
   "outputs": [
    {
     "data": {
      "text/html": [
       "<div>\n",
       "<style scoped>\n",
       "    .dataframe tbody tr th:only-of-type {\n",
       "        vertical-align: middle;\n",
       "    }\n",
       "\n",
       "    .dataframe tbody tr th {\n",
       "        vertical-align: top;\n",
       "    }\n",
       "\n",
       "    .dataframe thead tr th {\n",
       "        text-align: left;\n",
       "    }\n",
       "\n",
       "    .dataframe thead tr:last-of-type th {\n",
       "        text-align: right;\n",
       "    }\n",
       "</style>\n",
       "<table border=\"1\" class=\"dataframe\">\n",
       "  <thead>\n",
       "    <tr>\n",
       "      <th></th>\n",
       "      <th colspan=\"3\" halign=\"left\">c5r2mtsc_std</th>\n",
       "    </tr>\n",
       "    <tr>\n",
       "      <th></th>\n",
       "      <th>count</th>\n",
       "      <th>mean</th>\n",
       "      <th>sem</th>\n",
       "    </tr>\n",
       "    <tr>\n",
       "      <th>catholic</th>\n",
       "      <th></th>\n",
       "      <th></th>\n",
       "      <th></th>\n",
       "    </tr>\n",
       "  </thead>\n",
       "  <tbody>\n",
       "    <tr>\n",
       "      <th>0</th>\n",
       "      <td>9568</td>\n",
       "      <td>-0.030596</td>\n",
       "      <td>0.010385</td>\n",
       "    </tr>\n",
       "    <tr>\n",
       "      <th>1</th>\n",
       "      <td>1510</td>\n",
       "      <td>0.193868</td>\n",
       "      <td>0.022353</td>\n",
       "    </tr>\n",
       "  </tbody>\n",
       "</table>\n",
       "</div>"
      ],
      "text/plain": [
       "         c5r2mtsc_std                    \n",
       "                count      mean       sem\n",
       "catholic                                 \n",
       "0                9568 -0.030596  0.010385\n",
       "1                1510  0.193868  0.022353"
      ]
     },
     "execution_count": 151,
     "metadata": {},
     "output_type": "execute_result"
    }
   ],
   "source": [
    "df[['childid', 'catholic', 'c5r2mtsc_std']].groupby(['catholic']).agg(['count','mean',stats.sem])"
   ]
  },
  {
   "cell_type": "markdown",
   "metadata": {},
   "source": [
    "Since math score is standarized, we can conclude that the catholic students average math score is more than 20% of a standard deviation higher than that of public students."
   ]
  },
  {
   "cell_type": "code",
   "execution_count": 152,
   "metadata": {},
   "outputs": [
    {
     "data": {
      "text/plain": [
       "Ttest_indResult(statistic=8.129941988954517, pvalue=4.752225684279406e-16)"
      ]
     },
     "execution_count": 152,
     "metadata": {},
     "output_type": "execute_result"
    }
   ],
   "source": [
    "stats.ttest_ind(df[df.catholic == 1]['c5r2mtsc_std'],df[df.catholic == 0]['c5r2mtsc_std'] )"
   ]
  },
  {
   "cell_type": "markdown",
   "metadata": {},
   "source": [
    "Also from the ttest, we can see that the difference in average math score is statistiaclly significant. "
   ]
  },
  {
   "cell_type": "markdown",
   "metadata": {},
   "source": [
    "### 1.2 Difference in means: pre-treatment covariates"
   ]
  },
  {
   "cell_type": "markdown",
   "metadata": {},
   "source": [
    "Covariates: <br>\n",
    "    race_white: 1=yes, 0=No <br>\n",
    "    p5hmage: mothers age <br>\n",
    "    w3income: family income <br>\n",
    "    p5numpla: number of places student has lived for at least 4 months <br>\n",
    "    w3momed_hsb: is mothers education highschool or below(1), or college degree/more (0)"
   ]
  },
  {
   "cell_type": "markdown",
   "metadata": {},
   "source": [
    "### Mean for each covariates"
   ]
  },
  {
   "cell_type": "code",
   "execution_count": 153,
   "metadata": {},
   "outputs": [
    {
     "data": {
      "text/html": [
       "<div>\n",
       "<style scoped>\n",
       "    .dataframe tbody tr th:only-of-type {\n",
       "        vertical-align: middle;\n",
       "    }\n",
       "\n",
       "    .dataframe tbody tr th {\n",
       "        vertical-align: top;\n",
       "    }\n",
       "\n",
       "    .dataframe thead tr th {\n",
       "        text-align: left;\n",
       "    }\n",
       "\n",
       "    .dataframe thead tr:last-of-type th {\n",
       "        text-align: right;\n",
       "    }\n",
       "</style>\n",
       "<table border=\"1\" class=\"dataframe\">\n",
       "  <thead>\n",
       "    <tr>\n",
       "      <th></th>\n",
       "      <th>race_white</th>\n",
       "      <th>p5hmage</th>\n",
       "      <th>w3income</th>\n",
       "      <th>p5numpla</th>\n",
       "      <th>w3momed_hsb</th>\n",
       "    </tr>\n",
       "    <tr>\n",
       "      <th></th>\n",
       "      <th>mean</th>\n",
       "      <th>mean</th>\n",
       "      <th>mean</th>\n",
       "      <th>mean</th>\n",
       "      <th>mean</th>\n",
       "    </tr>\n",
       "    <tr>\n",
       "      <th>catholic</th>\n",
       "      <th></th>\n",
       "      <th></th>\n",
       "      <th></th>\n",
       "      <th></th>\n",
       "      <th></th>\n",
       "    </tr>\n",
       "  </thead>\n",
       "  <tbody>\n",
       "    <tr>\n",
       "      <th>0</th>\n",
       "      <td>0.556125</td>\n",
       "      <td>37.560970</td>\n",
       "      <td>54889.159064</td>\n",
       "      <td>1.132669</td>\n",
       "      <td>0.464092</td>\n",
       "    </tr>\n",
       "    <tr>\n",
       "      <th>1</th>\n",
       "      <td>0.725166</td>\n",
       "      <td>39.575163</td>\n",
       "      <td>82074.300501</td>\n",
       "      <td>1.092701</td>\n",
       "      <td>0.227207</td>\n",
       "    </tr>\n",
       "  </tbody>\n",
       "</table>\n",
       "</div>"
      ],
      "text/plain": [
       "         race_white    p5hmage      w3income  p5numpla w3momed_hsb\n",
       "               mean       mean          mean      mean        mean\n",
       "catholic                                                          \n",
       "0          0.556125  37.560970  54889.159064  1.132669    0.464092\n",
       "1          0.725166  39.575163  82074.300501  1.092701    0.227207"
      ]
     },
     "execution_count": 153,
     "metadata": {},
     "output_type": "execute_result"
    }
   ],
   "source": [
    "(df[['catholic', 'race_white', 'p5hmage','w3income','p5numpla','w3momed_hsb']]\n",
    " .groupby(['catholic']).agg(['mean']))"
   ]
  },
  {
   "cell_type": "code",
   "execution_count": 154,
   "metadata": {},
   "outputs": [
    {
     "name": "stdout",
     "output_type": "stream",
     "text": [
      "Variable: race_white\n",
      "Ttest_indResult(statistic=12.450367999574826, pvalue=2.398953024611241e-35)\n",
      "Variable: p5hmage\n",
      "Ttest_indResult(statistic=10.793536203115156, pvalue=5.302915317001201e-27)\n",
      "Variable: w3income\n",
      "Ttest_indResult(statistic=21.29597069456485, pvalue=2.161494782851299e-98)\n",
      "Variable: p5numpla\n",
      "Ttest_indResult(statistic=-3.5239085421140763, pvalue=0.0004272306475610962)\n",
      "Variable: w3momed_hsb\n",
      "Ttest_indResult(statistic=-16.68066304714088, pvalue=1.3607115748238347e-61)\n"
     ]
    }
   ],
   "source": [
    "for x in ['race_white', 'p5hmage','w3income','p5numpla','w3momed_hsb']:\n",
    "    print(\"Variable: \" + x)\n",
    "    print(stats.ttest_ind(df[df.catholic == 1][x].dropna(),df[df.catholic == 0][x].dropna()))\n"
   ]
  },
  {
   "cell_type": "markdown",
   "metadata": {},
   "source": [
    "From the p-value, we can see that all mean differences are statistically significant."
   ]
  },
  {
   "cell_type": "markdown",
   "metadata": {},
   "source": [
    "## 2 Propensity Score Matching"
   ]
  },
  {
   "cell_type": "code",
   "execution_count": 155,
   "metadata": {},
   "outputs": [
    {
     "data": {
      "text/html": [
       "<div>\n",
       "<style scoped>\n",
       "    .dataframe tbody tr th:only-of-type {\n",
       "        vertical-align: middle;\n",
       "    }\n",
       "\n",
       "    .dataframe tbody tr th {\n",
       "        vertical-align: top;\n",
       "    }\n",
       "\n",
       "    .dataframe thead th {\n",
       "        text-align: right;\n",
       "    }\n",
       "</style>\n",
       "<table border=\"1\" class=\"dataframe\">\n",
       "  <thead>\n",
       "    <tr style=\"text-align: right;\">\n",
       "      <th></th>\n",
       "      <th>catholic</th>\n",
       "      <th>race_white</th>\n",
       "      <th>p5hmage</th>\n",
       "      <th>p5numpla</th>\n",
       "      <th>w3momed_hsb</th>\n",
       "      <th>c5r2mtsc_std</th>\n",
       "      <th>w3income_1k</th>\n",
       "    </tr>\n",
       "  </thead>\n",
       "  <tbody>\n",
       "    <tr>\n",
       "      <th>6199</th>\n",
       "      <td>0</td>\n",
       "      <td>0</td>\n",
       "      <td>32.0</td>\n",
       "      <td>1.0</td>\n",
       "      <td>1.0</td>\n",
       "      <td>-2.006383</td>\n",
       "      <td>17.5005</td>\n",
       "    </tr>\n",
       "    <tr>\n",
       "      <th>1795</th>\n",
       "      <td>1</td>\n",
       "      <td>1</td>\n",
       "      <td>42.0</td>\n",
       "      <td>1.0</td>\n",
       "      <td>0.0</td>\n",
       "      <td>-0.138373</td>\n",
       "      <td>150.0005</td>\n",
       "    </tr>\n",
       "    <tr>\n",
       "      <th>8106</th>\n",
       "      <td>0</td>\n",
       "      <td>0</td>\n",
       "      <td>33.0</td>\n",
       "      <td>1.0</td>\n",
       "      <td>1.0</td>\n",
       "      <td>-0.315745</td>\n",
       "      <td>87.5005</td>\n",
       "    </tr>\n",
       "    <tr>\n",
       "      <th>7287</th>\n",
       "      <td>0</td>\n",
       "      <td>0</td>\n",
       "      <td>37.0</td>\n",
       "      <td>1.0</td>\n",
       "      <td>0.0</td>\n",
       "      <td>-1.668317</td>\n",
       "      <td>32.5005</td>\n",
       "    </tr>\n",
       "    <tr>\n",
       "      <th>607</th>\n",
       "      <td>0</td>\n",
       "      <td>1</td>\n",
       "      <td>34.0</td>\n",
       "      <td>2.0</td>\n",
       "      <td>1.0</td>\n",
       "      <td>-0.804108</td>\n",
       "      <td>62.5005</td>\n",
       "    </tr>\n",
       "  </tbody>\n",
       "</table>\n",
       "</div>"
      ],
      "text/plain": [
       "      catholic  race_white  p5hmage  p5numpla  w3momed_hsb  c5r2mtsc_std  \\\n",
       "6199         0           0     32.0       1.0          1.0     -2.006383   \n",
       "1795         1           1     42.0       1.0          0.0     -0.138373   \n",
       "8106         0           0     33.0       1.0          1.0     -0.315745   \n",
       "7287         0           0     37.0       1.0          0.0     -1.668317   \n",
       "607          0           1     34.0       2.0          1.0     -0.804108   \n",
       "\n",
       "      w3income_1k  \n",
       "6199      17.5005  \n",
       "1795     150.0005  \n",
       "8106      87.5005  \n",
       "7287      32.5005  \n",
       "607       62.5005  "
      ]
     },
     "execution_count": 155,
     "metadata": {},
     "output_type": "execute_result"
    }
   ],
   "source": [
    "students = df[['catholic','race_white','w3income','p5hmage', 'p5numpla','w3momed_hsb','c5r2mtsc_std']].dropna().copy()\n",
    "students['w3income_1k'] = students['w3income'].apply(lambda x: x/1000)\n",
    "students = students.drop('w3income', axis=1)\n",
    "students = students.reset_index().drop('index', axis=1)\n",
    "students.sample(5)"
   ]
  },
  {
   "cell_type": "code",
   "execution_count": 156,
   "metadata": {},
   "outputs": [
    {
     "data": {
      "text/plain": [
       "catholic          int64\n",
       "race_white        int64\n",
       "p5hmage         float64\n",
       "p5numpla        float64\n",
       "w3momed_hsb     float64\n",
       "c5r2mtsc_std    float64\n",
       "w3income_1k     float64\n",
       "dtype: object"
      ]
     },
     "execution_count": 156,
     "metadata": {},
     "output_type": "execute_result"
    }
   ],
   "source": [
    "students.dtypes"
   ]
  },
  {
   "cell_type": "code",
   "execution_count": 157,
   "metadata": {},
   "outputs": [],
   "source": [
    "lor = LogisticRegression()\n",
    "propensity = lor.fit(students.loc[:, (students.columns != 'catholic') & (students.columns != 'c5r2mtsc_std')], students.catholic)\n",
    "pscore = propensity.predict_proba(students.loc[:, (students.columns != 'catholic') & (students.columns != 'c5r2mtsc_std')])[:,1]\n",
    "# probability is ordered on class lebel\n",
    "\n",
    "# score from Logistic Regression\n",
    "students['prop_score'] = pscore"
   ]
  },
  {
   "cell_type": "code",
   "execution_count": 158,
   "metadata": {},
   "outputs": [
    {
     "data": {
      "text/html": [
       "<div>\n",
       "<style scoped>\n",
       "    .dataframe tbody tr th:only-of-type {\n",
       "        vertical-align: middle;\n",
       "    }\n",
       "\n",
       "    .dataframe tbody tr th {\n",
       "        vertical-align: top;\n",
       "    }\n",
       "\n",
       "    .dataframe thead th {\n",
       "        text-align: right;\n",
       "    }\n",
       "</style>\n",
       "<table border=\"1\" class=\"dataframe\">\n",
       "  <thead>\n",
       "    <tr style=\"text-align: right;\">\n",
       "      <th></th>\n",
       "      <th>catholic</th>\n",
       "      <th>race_white</th>\n",
       "      <th>p5hmage</th>\n",
       "      <th>p5numpla</th>\n",
       "      <th>w3momed_hsb</th>\n",
       "      <th>c5r2mtsc_std</th>\n",
       "      <th>w3income_1k</th>\n",
       "      <th>prop_score</th>\n",
       "    </tr>\n",
       "  </thead>\n",
       "  <tbody>\n",
       "    <tr>\n",
       "      <th>0</th>\n",
       "      <td>0</td>\n",
       "      <td>1</td>\n",
       "      <td>47.0</td>\n",
       "      <td>1.0</td>\n",
       "      <td>0.0</td>\n",
       "      <td>0.981753</td>\n",
       "      <td>62.5005</td>\n",
       "      <td>0.226005</td>\n",
       "    </tr>\n",
       "    <tr>\n",
       "      <th>1</th>\n",
       "      <td>0</td>\n",
       "      <td>1</td>\n",
       "      <td>41.0</td>\n",
       "      <td>1.0</td>\n",
       "      <td>0.0</td>\n",
       "      <td>0.594378</td>\n",
       "      <td>45.0005</td>\n",
       "      <td>0.180133</td>\n",
       "    </tr>\n",
       "    <tr>\n",
       "      <th>2</th>\n",
       "      <td>0</td>\n",
       "      <td>1</td>\n",
       "      <td>43.0</td>\n",
       "      <td>1.0</td>\n",
       "      <td>0.0</td>\n",
       "      <td>0.490611</td>\n",
       "      <td>62.5005</td>\n",
       "      <td>0.208226</td>\n",
       "    </tr>\n",
       "    <tr>\n",
       "      <th>3</th>\n",
       "      <td>1</td>\n",
       "      <td>1</td>\n",
       "      <td>38.0</td>\n",
       "      <td>1.0</td>\n",
       "      <td>0.0</td>\n",
       "      <td>1.451278</td>\n",
       "      <td>87.5005</td>\n",
       "      <td>0.216810</td>\n",
       "    </tr>\n",
       "    <tr>\n",
       "      <th>4</th>\n",
       "      <td>0</td>\n",
       "      <td>1</td>\n",
       "      <td>47.0</td>\n",
       "      <td>1.0</td>\n",
       "      <td>0.0</td>\n",
       "      <td>2.595699</td>\n",
       "      <td>150.0005</td>\n",
       "      <td>0.355799</td>\n",
       "    </tr>\n",
       "  </tbody>\n",
       "</table>\n",
       "</div>"
      ],
      "text/plain": [
       "   catholic  race_white  p5hmage  p5numpla  w3momed_hsb  c5r2mtsc_std  \\\n",
       "0         0           1     47.0       1.0          0.0      0.981753   \n",
       "1         0           1     41.0       1.0          0.0      0.594378   \n",
       "2         0           1     43.0       1.0          0.0      0.490611   \n",
       "3         1           1     38.0       1.0          0.0      1.451278   \n",
       "4         0           1     47.0       1.0          0.0      2.595699   \n",
       "\n",
       "   w3income_1k  prop_score  \n",
       "0      62.5005    0.226005  \n",
       "1      45.0005    0.180133  \n",
       "2      62.5005    0.208226  \n",
       "3      87.5005    0.216810  \n",
       "4     150.0005    0.355799  "
      ]
     },
     "execution_count": 158,
     "metadata": {},
     "output_type": "execute_result"
    }
   ],
   "source": [
    "students.head(5)"
   ]
  },
  {
   "cell_type": "code",
   "execution_count": 159,
   "metadata": {},
   "outputs": [
    {
     "data": {
      "text/plain": [
       "array([-3.04773578])"
      ]
     },
     "execution_count": 159,
     "metadata": {},
     "output_type": "execute_result"
    }
   ],
   "source": [
    "lor.intercept_"
   ]
  },
  {
   "cell_type": "code",
   "execution_count": 160,
   "metadata": {},
   "outputs": [
    {
     "data": {
      "text/plain": [
       "array([[ 0.3043212 ,  0.02616123, -0.17243479, -0.70163013,  0.00728416]])"
      ]
     },
     "execution_count": 160,
     "metadata": {},
     "output_type": "execute_result"
    }
   ],
   "source": [
    "lor.coef_"
   ]
  },
  {
   "cell_type": "code",
   "execution_count": 161,
   "metadata": {},
   "outputs": [],
   "source": [
    "y, X = dmatrices('catholic ~ C(race_white) + p5hmage + p5numpla + w3momed_hsb + w3income_1k', \n",
    "                 students, return_type = 'dataframe')"
   ]
  },
  {
   "cell_type": "code",
   "execution_count": 162,
   "metadata": {},
   "outputs": [
    {
     "name": "stdout",
     "output_type": "stream",
     "text": [
      "Optimization terminated successfully.\n",
      "         Current function value: 0.386794\n",
      "         Iterations 7\n"
     ]
    }
   ],
   "source": [
    "logit = sm.Logit(y,X).fit()"
   ]
  },
  {
   "cell_type": "code",
   "execution_count": 163,
   "metadata": {},
   "outputs": [
    {
     "data": {
      "text/plain": [
       "Intercept            -3.212552\n",
       "C(race_white)[T.1]    0.314501\n",
       "p5hmage               0.029217\n",
       "p5numpla             -0.143939\n",
       "w3momed_hsb          -0.693587\n",
       "w3income_1k           0.007304\n",
       "dtype: float64"
      ]
     },
     "execution_count": 163,
     "metadata": {},
     "output_type": "execute_result"
    }
   ],
   "source": [
    "logit.params"
   ]
  },
  {
   "cell_type": "code",
   "execution_count": 164,
   "metadata": {},
   "outputs": [],
   "source": [
    "# Adding score from logit model as well\n",
    "# Logistic regression has L2 regularization by default. So the ps score from LR and Logit might not match\n",
    "students['logit_score'] = logit.predict(X)"
   ]
  },
  {
   "cell_type": "code",
   "execution_count": 165,
   "metadata": {},
   "outputs": [
    {
     "data": {
      "text/html": [
       "<div>\n",
       "<style scoped>\n",
       "    .dataframe tbody tr th:only-of-type {\n",
       "        vertical-align: middle;\n",
       "    }\n",
       "\n",
       "    .dataframe tbody tr th {\n",
       "        vertical-align: top;\n",
       "    }\n",
       "\n",
       "    .dataframe thead th {\n",
       "        text-align: right;\n",
       "    }\n",
       "</style>\n",
       "<table border=\"1\" class=\"dataframe\">\n",
       "  <thead>\n",
       "    <tr style=\"text-align: right;\">\n",
       "      <th></th>\n",
       "      <th>catholic</th>\n",
       "      <th>race_white</th>\n",
       "      <th>p5hmage</th>\n",
       "      <th>p5numpla</th>\n",
       "      <th>w3momed_hsb</th>\n",
       "      <th>c5r2mtsc_std</th>\n",
       "      <th>w3income_1k</th>\n",
       "      <th>prop_score</th>\n",
       "      <th>logit_score</th>\n",
       "    </tr>\n",
       "  </thead>\n",
       "  <tbody>\n",
       "    <tr>\n",
       "      <th>2730</th>\n",
       "      <td>1</td>\n",
       "      <td>1</td>\n",
       "      <td>38.0</td>\n",
       "      <td>1.0</td>\n",
       "      <td>1.0</td>\n",
       "      <td>0.383447</td>\n",
       "      <td>62.5005</td>\n",
       "      <td>0.102653</td>\n",
       "      <td>0.102583</td>\n",
       "    </tr>\n",
       "    <tr>\n",
       "      <th>2403</th>\n",
       "      <td>0</td>\n",
       "      <td>0</td>\n",
       "      <td>36.0</td>\n",
       "      <td>1.0</td>\n",
       "      <td>1.0</td>\n",
       "      <td>1.648414</td>\n",
       "      <td>45.0005</td>\n",
       "      <td>0.065853</td>\n",
       "      <td>0.064791</td>\n",
       "    </tr>\n",
       "    <tr>\n",
       "      <th>7028</th>\n",
       "      <td>0</td>\n",
       "      <td>0</td>\n",
       "      <td>42.0</td>\n",
       "      <td>1.0</td>\n",
       "      <td>0.0</td>\n",
       "      <td>2.140381</td>\n",
       "      <td>62.5005</td>\n",
       "      <td>0.158940</td>\n",
       "      <td>0.158039</td>\n",
       "    </tr>\n",
       "    <tr>\n",
       "      <th>2582</th>\n",
       "      <td>0</td>\n",
       "      <td>0</td>\n",
       "      <td>76.0</td>\n",
       "      <td>1.0</td>\n",
       "      <td>1.0</td>\n",
       "      <td>0.608790</td>\n",
       "      <td>12.5005</td>\n",
       "      <td>0.136757</td>\n",
       "      <td>0.149529</td>\n",
       "    </tr>\n",
       "    <tr>\n",
       "      <th>1716</th>\n",
       "      <td>0</td>\n",
       "      <td>0</td>\n",
       "      <td>29.0</td>\n",
       "      <td>1.0</td>\n",
       "      <td>1.0</td>\n",
       "      <td>0.952620</td>\n",
       "      <td>87.5005</td>\n",
       "      <td>0.074072</td>\n",
       "      <td>0.071511</td>\n",
       "    </tr>\n",
       "  </tbody>\n",
       "</table>\n",
       "</div>"
      ],
      "text/plain": [
       "      catholic  race_white  p5hmage  p5numpla  w3momed_hsb  c5r2mtsc_std  \\\n",
       "2730         1           1     38.0       1.0          1.0      0.383447   \n",
       "2403         0           0     36.0       1.0          1.0      1.648414   \n",
       "7028         0           0     42.0       1.0          0.0      2.140381   \n",
       "2582         0           0     76.0       1.0          1.0      0.608790   \n",
       "1716         0           0     29.0       1.0          1.0      0.952620   \n",
       "\n",
       "      w3income_1k  prop_score  logit_score  \n",
       "2730      62.5005    0.102653     0.102583  \n",
       "2403      45.0005    0.065853     0.064791  \n",
       "7028      62.5005    0.158940     0.158039  \n",
       "2582      12.5005    0.136757     0.149529  \n",
       "1716      87.5005    0.074072     0.071511  "
      ]
     },
     "execution_count": 165,
     "metadata": {},
     "output_type": "execute_result"
    }
   ],
   "source": [
    "students.sample(5)"
   ]
  },
  {
   "cell_type": "markdown",
   "metadata": {},
   "source": [
    "Notice the prop_score from Logistic Regression and logit_score from Logit function. They do not match exactly and are pretty close."
   ]
  },
  {
   "cell_type": "code",
   "execution_count": 166,
   "metadata": {},
   "outputs": [
    {
     "data": {
      "text/plain": [
       "Text(0.5,0.98,'Probability of going to Catholic School')"
      ]
     },
     "execution_count": 166,
     "metadata": {},
     "output_type": "execute_result"
    },
    {
     "data": {
      "image/png": "[encoded data removed]",
      "text/plain": [
       "<matplotlib.figure.Figure at 0x7f55283ddc50>"
      ]
     },
     "metadata": {},
     "output_type": "display_data"
    }
   ],
   "source": [
    "fig, (ax1, ax2) = plt.subplots(1,2, sharey=True)\n",
    "sns.distplot(students[students.catholic == 1]['logit_score'], bins= 30, kde=False, hist=True, ax= ax1)\n",
    "sns.distplot(students[students.catholic == 0]['logit_score'], bins= 30, kde=False, hist=True, ax= ax2)\n",
    "ax1.set_title(\"Catholic school attended\", fontsize=10)\n",
    "ax2.set_title(\"Public school attended\", fontsize=10)\n",
    "fig.suptitle(\"Probability of going to Catholic School\", fontsize=14)"
   ]
  },
  {
   "cell_type": "markdown",
   "metadata": {},
   "source": [
    "## 3 Matching Algorithm"
   ]
  },
  {
   "cell_type": "code",
   "execution_count": 167,
   "metadata": {},
   "outputs": [],
   "source": [
    "np.random.seed(10)\n",
    "\n",
    "def Match(groups, pscore, caliper=0.05):\n",
    "    '''\n",
    "    Inputs: \n",
    "    groups = indicator to identify control and study group. Must be two groups. Number of treated (study) records should be\n",
    "            smaller than untreated (control) records.\n",
    "    pscore = propensity scores for each observation. Groups and pscore must be in the same order ( same indices).\n",
    "    caliper = maximum difference in matched propensity scores.\n",
    "    \n",
    "    Outputs:\n",
    "    returns a dataframe with four columns\n",
    "    std_indx: index of the study record\n",
    "    std_pscore: propensity score of the study record used for matching\n",
    "    ctl_indx: index of control record that matches with the study record\n",
    "    ctl_pscore: propensity score of the control record used for matching\n",
    "    \n",
    "    '''\n",
    "    if any(pscore <= 0) or any(pscore >= 1):\n",
    "        raise ValueError('Propensity scores must be between 0 and 1')\n",
    "    elif not(0<caliper<1):\n",
    "        raise ValueError('Caliper must be between 0 and 1')\n",
    "    elif len(groups) != len(pscore):\n",
    "        raise ValueError('groups and pscore must have same dimension')\n",
    "    elif len(groups.unique()) != 2:\n",
    "        raise ValueError('wrong number of groups')\n",
    "     \n",
    "    \n",
    "    groups = groups == groups.unique()[0]\n",
    "    N = len(groups)\n",
    "    N1 = groups.sum(); \n",
    "    N2 = N - N1;\n",
    "    g1, g2 = (pscore[groups == 1]),(pscore[groups == 0])\n",
    "    # N1 is study, N2 is control\n",
    "    # assuming number of study groups is less than control groups\n",
    "    if N1 > N2:\n",
    "        N1, N2, g1, g2 = N2, N1, g2, g1\n",
    "\n",
    "    if (N1 != len(g1)) or (N2 != len(g2)):\n",
    "        raise ValueError('Number of study records must be less than control records')\n",
    "\n",
    "    morder = np.random.permutation(N1)\n",
    "    matches = pd.Series(np.empty(N1))\n",
    "    matches[:] = np.NAN\n",
    "\n",
    "    for m in morder:\n",
    "        dist = abs(g1.iloc[m] - g2)\n",
    "        if dist.min() <= caliper:\n",
    "            matches[m] = dist.idxmin()\n",
    "            g2 = g2.drop(matches[m])\n",
    "            \n",
    "    study = pd.DataFrame(g1).reset_index()\n",
    "    study.columns = ['std_indx', 'std_pscore']\n",
    "    control = pd.DataFrame(students.iloc[matches]['logit_score']).reset_index()\n",
    "    control.columns = ['ctl_indx', 'ctl_pscore']\n",
    "    \n",
    "    final_df = study.join(control)\n",
    "\n",
    "    return final_df\n",
    "        "
   ]
  },
  {
   "cell_type": "code",
   "execution_count": 168,
   "metadata": {},
   "outputs": [],
   "source": [
    "matches = Match(students.catholic, students.logit_score, 0.05)"
   ]
  },
  {
   "cell_type": "code",
   "execution_count": 169,
   "metadata": {},
   "outputs": [
    {
     "data": {
      "text/html": [
       "<div>\n",
       "<style scoped>\n",
       "    .dataframe tbody tr th:only-of-type {\n",
       "        vertical-align: middle;\n",
       "    }\n",
       "\n",
       "    .dataframe tbody tr th {\n",
       "        vertical-align: top;\n",
       "    }\n",
       "\n",
       "    .dataframe thead th {\n",
       "        text-align: right;\n",
       "    }\n",
       "</style>\n",
       "<table border=\"1\" class=\"dataframe\">\n",
       "  <thead>\n",
       "    <tr style=\"text-align: right;\">\n",
       "      <th></th>\n",
       "      <th>std_indx</th>\n",
       "      <th>std_pscore</th>\n",
       "      <th>ctl_indx</th>\n",
       "      <th>ctl_pscore</th>\n",
       "    </tr>\n",
       "  </thead>\n",
       "  <tbody>\n",
       "    <tr>\n",
       "      <th>0</th>\n",
       "      <td>3</td>\n",
       "      <td>0.215402</td>\n",
       "      <td>2257</td>\n",
       "      <td>0.215402</td>\n",
       "    </tr>\n",
       "    <tr>\n",
       "      <th>1</th>\n",
       "      <td>33</td>\n",
       "      <td>0.169386</td>\n",
       "      <td>2042</td>\n",
       "      <td>0.169386</td>\n",
       "    </tr>\n",
       "    <tr>\n",
       "      <th>2</th>\n",
       "      <td>34</td>\n",
       "      <td>0.290602</td>\n",
       "      <td>5285</td>\n",
       "      <td>0.290160</td>\n",
       "    </tr>\n",
       "    <tr>\n",
       "      <th>3</th>\n",
       "      <td>35</td>\n",
       "      <td>0.200958</td>\n",
       "      <td>2934</td>\n",
       "      <td>0.200958</td>\n",
       "    </tr>\n",
       "    <tr>\n",
       "      <th>4</th>\n",
       "      <td>36</td>\n",
       "      <td>0.321143</td>\n",
       "      <td>2456</td>\n",
       "      <td>0.321143</td>\n",
       "    </tr>\n",
       "  </tbody>\n",
       "</table>\n",
       "</div>"
      ],
      "text/plain": [
       "   std_indx  std_pscore  ctl_indx  ctl_pscore\n",
       "0         3    0.215402      2257    0.215402\n",
       "1        33    0.169386      2042    0.169386\n",
       "2        34    0.290602      5285    0.290160\n",
       "3        35    0.200958      2934    0.200958\n",
       "4        36    0.321143      2456    0.321143"
      ]
     },
     "execution_count": 169,
     "metadata": {},
     "output_type": "execute_result"
    }
   ],
   "source": [
    "matches.head()"
   ]
  },
  {
   "cell_type": "code",
   "execution_count": 170,
   "metadata": {},
   "outputs": [],
   "source": [
    "study = students.iloc[matches.std_indx]\n",
    "control = students.iloc[matches.ctl_indx]\n",
    "final = study.append(control)\n"
   ]
  },
  {
   "cell_type": "code",
   "execution_count": 171,
   "metadata": {},
   "outputs": [
    {
     "data": {
      "text/html": [
       "<div>\n",
       "<style scoped>\n",
       "    .dataframe tbody tr th:only-of-type {\n",
       "        vertical-align: middle;\n",
       "    }\n",
       "\n",
       "    .dataframe tbody tr th {\n",
       "        vertical-align: top;\n",
       "    }\n",
       "\n",
       "    .dataframe thead th {\n",
       "        text-align: right;\n",
       "    }\n",
       "</style>\n",
       "<table border=\"1\" class=\"dataframe\">\n",
       "  <thead>\n",
       "    <tr style=\"text-align: right;\">\n",
       "      <th></th>\n",
       "      <th>catholic</th>\n",
       "      <th>race_white</th>\n",
       "      <th>p5hmage</th>\n",
       "      <th>p5numpla</th>\n",
       "      <th>w3momed_hsb</th>\n",
       "      <th>c5r2mtsc_std</th>\n",
       "      <th>w3income_1k</th>\n",
       "      <th>prop_score</th>\n",
       "      <th>logit_score</th>\n",
       "    </tr>\n",
       "  </thead>\n",
       "  <tbody>\n",
       "    <tr>\n",
       "      <th>3</th>\n",
       "      <td>1</td>\n",
       "      <td>1</td>\n",
       "      <td>38.0</td>\n",
       "      <td>1.0</td>\n",
       "      <td>0.0</td>\n",
       "      <td>1.451278</td>\n",
       "      <td>87.5005</td>\n",
       "      <td>0.216810</td>\n",
       "      <td>0.215402</td>\n",
       "    </tr>\n",
       "    <tr>\n",
       "      <th>33</th>\n",
       "      <td>1</td>\n",
       "      <td>1</td>\n",
       "      <td>39.0</td>\n",
       "      <td>2.0</td>\n",
       "      <td>0.0</td>\n",
       "      <td>0.157383</td>\n",
       "      <td>62.5005</td>\n",
       "      <td>0.166210</td>\n",
       "      <td>0.169386</td>\n",
       "    </tr>\n",
       "    <tr>\n",
       "      <th>34</th>\n",
       "      <td>1</td>\n",
       "      <td>1</td>\n",
       "      <td>41.0</td>\n",
       "      <td>2.0</td>\n",
       "      <td>0.0</td>\n",
       "      <td>1.485352</td>\n",
       "      <td>150.0005</td>\n",
       "      <td>0.284338</td>\n",
       "      <td>0.290602</td>\n",
       "    </tr>\n",
       "    <tr>\n",
       "      <th>35</th>\n",
       "      <td>1</td>\n",
       "      <td>1</td>\n",
       "      <td>35.0</td>\n",
       "      <td>1.0</td>\n",
       "      <td>0.0</td>\n",
       "      <td>-0.501969</td>\n",
       "      <td>87.5005</td>\n",
       "      <td>0.203779</td>\n",
       "      <td>0.200958</td>\n",
       "    </tr>\n",
       "    <tr>\n",
       "      <th>36</th>\n",
       "      <td>1</td>\n",
       "      <td>1</td>\n",
       "      <td>41.0</td>\n",
       "      <td>1.0</td>\n",
       "      <td>0.0</td>\n",
       "      <td>-0.204360</td>\n",
       "      <td>150.0005</td>\n",
       "      <td>0.320688</td>\n",
       "      <td>0.321143</td>\n",
       "    </tr>\n",
       "  </tbody>\n",
       "</table>\n",
       "</div>"
      ],
      "text/plain": [
       "    catholic  race_white  p5hmage  p5numpla  w3momed_hsb  c5r2mtsc_std  \\\n",
       "3          1           1     38.0       1.0          0.0      1.451278   \n",
       "33         1           1     39.0       2.0          0.0      0.157383   \n",
       "34         1           1     41.0       2.0          0.0      1.485352   \n",
       "35         1           1     35.0       1.0          0.0     -0.501969   \n",
       "36         1           1     41.0       1.0          0.0     -0.204360   \n",
       "\n",
       "    w3income_1k  prop_score  logit_score  \n",
       "3       87.5005    0.216810     0.215402  \n",
       "33      62.5005    0.166210     0.169386  \n",
       "34     150.0005    0.284338     0.290602  \n",
       "35      87.5005    0.203779     0.200958  \n",
       "36     150.0005    0.320688     0.321143  "
      ]
     },
     "execution_count": 171,
     "metadata": {},
     "output_type": "execute_result"
    }
   ],
   "source": [
    "study.head(5)"
   ]
  },
  {
   "cell_type": "code",
   "execution_count": 172,
   "metadata": {},
   "outputs": [
    {
     "data": {
      "text/html": [
       "<div>\n",
       "<style scoped>\n",
       "    .dataframe tbody tr th:only-of-type {\n",
       "        vertical-align: middle;\n",
       "    }\n",
       "\n",
       "    .dataframe tbody tr th {\n",
       "        vertical-align: top;\n",
       "    }\n",
       "\n",
       "    .dataframe thead th {\n",
       "        text-align: right;\n",
       "    }\n",
       "</style>\n",
       "<table border=\"1\" class=\"dataframe\">\n",
       "  <thead>\n",
       "    <tr style=\"text-align: right;\">\n",
       "      <th></th>\n",
       "      <th>catholic</th>\n",
       "      <th>race_white</th>\n",
       "      <th>p5hmage</th>\n",
       "      <th>p5numpla</th>\n",
       "      <th>w3momed_hsb</th>\n",
       "      <th>c5r2mtsc_std</th>\n",
       "      <th>w3income_1k</th>\n",
       "      <th>prop_score</th>\n",
       "      <th>logit_score</th>\n",
       "    </tr>\n",
       "  </thead>\n",
       "  <tbody>\n",
       "    <tr>\n",
       "      <th>2257</th>\n",
       "      <td>0</td>\n",
       "      <td>1</td>\n",
       "      <td>38.0</td>\n",
       "      <td>1.0</td>\n",
       "      <td>0.0</td>\n",
       "      <td>0.238914</td>\n",
       "      <td>87.5005</td>\n",
       "      <td>0.216810</td>\n",
       "      <td>0.215402</td>\n",
       "    </tr>\n",
       "    <tr>\n",
       "      <th>2042</th>\n",
       "      <td>0</td>\n",
       "      <td>1</td>\n",
       "      <td>39.0</td>\n",
       "      <td>2.0</td>\n",
       "      <td>0.0</td>\n",
       "      <td>0.483302</td>\n",
       "      <td>62.5005</td>\n",
       "      <td>0.166210</td>\n",
       "      <td>0.169386</td>\n",
       "    </tr>\n",
       "    <tr>\n",
       "      <th>5285</th>\n",
       "      <td>0</td>\n",
       "      <td>1</td>\n",
       "      <td>36.0</td>\n",
       "      <td>1.0</td>\n",
       "      <td>0.0</td>\n",
       "      <td>0.529523</td>\n",
       "      <td>150.0005</td>\n",
       "      <td>0.292884</td>\n",
       "      <td>0.290160</td>\n",
       "    </tr>\n",
       "    <tr>\n",
       "      <th>2934</th>\n",
       "      <td>0</td>\n",
       "      <td>1</td>\n",
       "      <td>35.0</td>\n",
       "      <td>1.0</td>\n",
       "      <td>0.0</td>\n",
       "      <td>0.860898</td>\n",
       "      <td>87.5005</td>\n",
       "      <td>0.203779</td>\n",
       "      <td>0.200958</td>\n",
       "    </tr>\n",
       "    <tr>\n",
       "      <th>2456</th>\n",
       "      <td>0</td>\n",
       "      <td>1</td>\n",
       "      <td>41.0</td>\n",
       "      <td>1.0</td>\n",
       "      <td>0.0</td>\n",
       "      <td>0.678585</td>\n",
       "      <td>150.0005</td>\n",
       "      <td>0.320688</td>\n",
       "      <td>0.321143</td>\n",
       "    </tr>\n",
       "  </tbody>\n",
       "</table>\n",
       "</div>"
      ],
      "text/plain": [
       "      catholic  race_white  p5hmage  p5numpla  w3momed_hsb  c5r2mtsc_std  \\\n",
       "2257         0           1     38.0       1.0          0.0      0.238914   \n",
       "2042         0           1     39.0       2.0          0.0      0.483302   \n",
       "5285         0           1     36.0       1.0          0.0      0.529523   \n",
       "2934         0           1     35.0       1.0          0.0      0.860898   \n",
       "2456         0           1     41.0       1.0          0.0      0.678585   \n",
       "\n",
       "      w3income_1k  prop_score  logit_score  \n",
       "2257      87.5005    0.216810     0.215402  \n",
       "2042      62.5005    0.166210     0.169386  \n",
       "5285     150.0005    0.292884     0.290160  \n",
       "2934      87.5005    0.203779     0.200958  \n",
       "2456     150.0005    0.320688     0.321143  "
      ]
     },
     "execution_count": 172,
     "metadata": {},
     "output_type": "execute_result"
    }
   ],
   "source": [
    "control.head(5)"
   ]
  },
  {
   "cell_type": "markdown",
   "metadata": {},
   "source": [
    "If we have done matching properly, each covariates mean should match for study and control group."
   ]
  },
  {
   "cell_type": "markdown",
   "metadata": {},
   "source": [
    "### Covariates mean"
   ]
  },
  {
   "cell_type": "code",
   "execution_count": 173,
   "metadata": {},
   "outputs": [
    {
     "data": {
      "text/plain": [
       "<seaborn.axisgrid.FacetGrid at 0x7f552764e668>"
      ]
     },
     "execution_count": 173,
     "metadata": {},
     "output_type": "execute_result"
    },
    {
     "data": {
      "image/png": "[encoded data removed]",
      "text/plain": [
       "<matplotlib.figure.Figure at 0x7f552764e588>"
      ]
     },
     "metadata": {},
     "output_type": "display_data"
    }
   ],
   "source": [
    "sns.lmplot(x='logit_score', y='race_white', hue='catholic',\n",
    "           data = final, size = 4, fit_reg = False)\n"
   ]
  },
  {
   "cell_type": "code",
   "execution_count": 174,
   "metadata": {},
   "outputs": [
    {
     "data": {
      "image/png": "[encoded data removed]",
      "text/plain": [
       "<matplotlib.figure.Figure at 0x7f55276568d0>"
      ]
     },
     "metadata": {},
     "output_type": "display_data"
    },
    {
     "data": {
      "image/png": "[encoded data removed]",
      "text/plain": [
       "<matplotlib.figure.Figure at 0x7f5528cd26a0>"
      ]
     },
     "metadata": {},
     "output_type": "display_data"
    },
    {
     "data": {
      "image/png": "[encoded data removed]",
      "text/plain": [
       "<matplotlib.figure.Figure at 0x7f5526d70828>"
      ]
     },
     "metadata": {},
     "output_type": "display_data"
    },
    {
     "data": {
      "image/png": "[encoded data removed]",
      "text/plain": [
       "<matplotlib.figure.Figure at 0x7f5527674978>"
      ]
     },
     "metadata": {},
     "output_type": "display_data"
    },
    {
     "data": {
      "image/png": "[encoded data removed]",
      "text/plain": [
       "<matplotlib.figure.Figure at 0x7f5527337b00>"
      ]
     },
     "metadata": {},
     "output_type": "display_data"
    }
   ],
   "source": [
    "\n",
    "sns.lmplot(x='logit_score', y='race_white', hue='catholic',\n",
    "           data = final, size = 4, fit_reg = True)\n",
    "ax1 = plt.gca()\n",
    "ax1.set_title(\"Race_White\")\n",
    "\n",
    "sns.lmplot(x='logit_score', y='p5hmage', hue='catholic',\n",
    "           data = final, size = 4, fit_reg = True)\n",
    "ax2 = plt.gca()\n",
    "ax2.set_title(\"p5hmage\")\n",
    "\n",
    "sns.lmplot(x='logit_score', y='p5numpla', hue='catholic',\n",
    "           data = final, size = 4, fit_reg = True)\n",
    "ax3 = plt.gca()\n",
    "ax3.set_title(\"p5numpla\")\n",
    "\n",
    "sns.lmplot(x='logit_score', y='w3momed_hsb', hue='catholic',\n",
    "           data = final, size = 4, fit_reg = True)\n",
    "ax4 = plt.gca()\n",
    "ax4.set_title(\"w3momed_hsb\")\n",
    "\n",
    "sns.lmplot(x='logit_score', y='w3income_1k', hue='catholic',\n",
    "           data = final, size = 4, fit_reg = True)\n",
    "ax5 = plt.gca()\n",
    "_=ax5.set_title(\"w3income_1k\")\n"
   ]
  },
  {
   "cell_type": "markdown",
   "metadata": {},
   "source": [
    "### After matching, we can see that when we plot a regression line, it is same for both catholic and public students. However if we plot similar graphs before matching, we can see the different in the regression line. This also confirms we have removed sample imbalance with matching."
   ]
  },
  {
   "cell_type": "code",
   "execution_count": 175,
   "metadata": {},
   "outputs": [
    {
     "data": {
      "image/png": "[encoded data removed]",
      "text/plain": [
       "<matplotlib.figure.Figure at 0x7f5527687f28>"
      ]
     },
     "metadata": {},
     "output_type": "display_data"
    },
    {
     "data": {
      "image/png": "[encoded data removed]",
      "text/plain": [
       "<matplotlib.figure.Figure at 0x7f5527180400>"
      ]
     },
     "metadata": {},
     "output_type": "display_data"
    },
    {
     "data": {
      "image/png": "[encoded data removed]",
      "text/plain": [
       "<matplotlib.figure.Figure at 0x7f5527169c88>"
      ]
     },
     "metadata": {},
     "output_type": "display_data"
    },
    {
     "data": {
      "image/png": "[encoded data removed]",
      "text/plain": [
       "<matplotlib.figure.Figure at 0x7f552764e048>"
      ]
     },
     "metadata": {},
     "output_type": "display_data"
    },
    {
     "data": {
      "image/png": "[encoded data removed]",
      "text/plain": [
       "<matplotlib.figure.Figure at 0x7f55278b6be0>"
      ]
     },
     "metadata": {},
     "output_type": "display_data"
    }
   ],
   "source": [
    "sns.lmplot(x='logit_score', y='race_white', hue='catholic',\n",
    "           data = students, size = 4, fit_reg = True)\n",
    "ax1 = plt.gca()\n",
    "ax1.set_title(\"Race_White (before matching)\")\n",
    "\n",
    "sns.lmplot(x='logit_score', y='p5hmage', hue='catholic',\n",
    "           data = students, size = 4, fit_reg = True)\n",
    "ax2 = plt.gca()\n",
    "ax2.set_title(\"p5hmage (before matching)\")\n",
    "\n",
    "sns.lmplot(x='logit_score', y='p5numpla', hue='catholic',\n",
    "           data = students, size = 4, fit_reg = True)\n",
    "ax3 = plt.gca()\n",
    "ax3.set_title(\"p5numpla (before matching)\")\n",
    "\n",
    "sns.lmplot(x='logit_score', y='w3momed_hsb', hue='catholic',\n",
    "           data = students, size = 4, fit_reg = True)\n",
    "ax4 = plt.gca()\n",
    "ax4.set_title(\"w3momed_hsb (before matching)\")\n",
    "\n",
    "sns.lmplot(x='logit_score', y='w3income_1k', hue='catholic',\n",
    "           data = students, size = 4, fit_reg = True)\n",
    "ax5 = plt.gca()\n",
    "_=ax5.set_title(\"w3income_1k (before matching)\")"
   ]
  },
  {
   "cell_type": "markdown",
   "metadata": {},
   "source": [
    "## After matching analysis"
   ]
  },
  {
   "cell_type": "markdown",
   "metadata": {},
   "source": [
    "### Mean for each covariates"
   ]
  },
  {
   "cell_type": "code",
   "execution_count": 176,
   "metadata": {},
   "outputs": [
    {
     "data": {
      "text/html": [
       "<div>\n",
       "<style scoped>\n",
       "    .dataframe tbody tr th:only-of-type {\n",
       "        vertical-align: middle;\n",
       "    }\n",
       "\n",
       "    .dataframe tbody tr th {\n",
       "        vertical-align: top;\n",
       "    }\n",
       "\n",
       "    .dataframe thead tr th {\n",
       "        text-align: left;\n",
       "    }\n",
       "\n",
       "    .dataframe thead tr:last-of-type th {\n",
       "        text-align: right;\n",
       "    }\n",
       "</style>\n",
       "<table border=\"1\" class=\"dataframe\">\n",
       "  <thead>\n",
       "    <tr>\n",
       "      <th></th>\n",
       "      <th colspan=\"2\" halign=\"left\">race_white</th>\n",
       "      <th colspan=\"2\" halign=\"left\">p5hmage</th>\n",
       "      <th colspan=\"2\" halign=\"left\">w3income_1k</th>\n",
       "      <th colspan=\"2\" halign=\"left\">p5numpla</th>\n",
       "      <th colspan=\"2\" halign=\"left\">w3momed_hsb</th>\n",
       "    </tr>\n",
       "    <tr>\n",
       "      <th></th>\n",
       "      <th>mean</th>\n",
       "      <th>sem</th>\n",
       "      <th>mean</th>\n",
       "      <th>sem</th>\n",
       "      <th>mean</th>\n",
       "      <th>sem</th>\n",
       "      <th>mean</th>\n",
       "      <th>sem</th>\n",
       "      <th>mean</th>\n",
       "      <th>sem</th>\n",
       "    </tr>\n",
       "    <tr>\n",
       "      <th>catholic</th>\n",
       "      <th></th>\n",
       "      <th></th>\n",
       "      <th></th>\n",
       "      <th></th>\n",
       "      <th></th>\n",
       "      <th></th>\n",
       "      <th></th>\n",
       "      <th></th>\n",
       "      <th></th>\n",
       "      <th></th>\n",
       "    </tr>\n",
       "  </thead>\n",
       "  <tbody>\n",
       "    <tr>\n",
       "      <th>0</th>\n",
       "      <td>0.746302</td>\n",
       "      <td>0.011838</td>\n",
       "      <td>39.559172</td>\n",
       "      <td>0.142394</td>\n",
       "      <td>81.403993</td>\n",
       "      <td>1.267849</td>\n",
       "      <td>1.076183</td>\n",
       "      <td>0.008077</td>\n",
       "      <td>0.215237</td>\n",
       "      <td>0.011181</td>\n",
       "    </tr>\n",
       "    <tr>\n",
       "      <th>1</th>\n",
       "      <td>0.741124</td>\n",
       "      <td>0.011917</td>\n",
       "      <td>39.593195</td>\n",
       "      <td>0.142334</td>\n",
       "      <td>82.568936</td>\n",
       "      <td>1.275036</td>\n",
       "      <td>1.091716</td>\n",
       "      <td>0.008326</td>\n",
       "      <td>0.223373</td>\n",
       "      <td>0.011332</td>\n",
       "    </tr>\n",
       "  </tbody>\n",
       "</table>\n",
       "</div>"
      ],
      "text/plain": [
       "         race_white              p5hmage           w3income_1k            \\\n",
       "               mean       sem       mean       sem        mean       sem   \n",
       "catholic                                                                   \n",
       "0          0.746302  0.011838  39.559172  0.142394   81.403993  1.267849   \n",
       "1          0.741124  0.011917  39.593195  0.142334   82.568936  1.275036   \n",
       "\n",
       "          p5numpla           w3momed_hsb            \n",
       "              mean       sem        mean       sem  \n",
       "catholic                                            \n",
       "0         1.076183  0.008077    0.215237  0.011181  \n",
       "1         1.091716  0.008326    0.223373  0.011332  "
      ]
     },
     "execution_count": 176,
     "metadata": {},
     "output_type": "execute_result"
    }
   ],
   "source": [
    "(final[['catholic', 'race_white', 'p5hmage','w3income_1k','p5numpla','w3momed_hsb']]\n",
    " .groupby(['catholic']).agg(['mean', 'sem']))"
   ]
  },
  {
   "cell_type": "markdown",
   "metadata": {},
   "source": [
    "Mean for each covariates is very close. I do not expect the mean difference to be statistically significant. Lets confirm \n",
    "with the ttest."
   ]
  },
  {
   "cell_type": "code",
   "execution_count": 177,
   "metadata": {},
   "outputs": [
    {
     "name": "stdout",
     "output_type": "stream",
     "text": [
      "Variable: race_white\n",
      "Ttest_indResult(statistic=-0.30823055964253404, pvalue=0.7579306598519536)\n",
      "Variable: p5hmage\n",
      "Ttest_indResult(statistic=0.1689916912533004, pvalue=0.8658158261435221)\n",
      "Variable: w3income_1k\n",
      "Ttest_indResult(statistic=0.6478749845988445, pvalue=0.5171208568396295)\n",
      "Variable: p5numpla\n",
      "Ttest_indResult(statistic=1.3390138402460645, pvalue=0.1806788006930459)\n",
      "Variable: w3momed_hsb\n",
      "Ttest_indResult(statistic=0.5110752908010489, pvalue=0.6093400932378217)\n"
     ]
    }
   ],
   "source": [
    "for x in ['race_white', 'p5hmage','w3income_1k','p5numpla','w3momed_hsb']:\n",
    "    print(\"Variable: \" + x)\n",
    "    print(stats.ttest_ind(final[final.catholic == 1][x].dropna(),final[final.catholic == 0][x].dropna()))"
   ]
  },
  {
   "cell_type": "markdown",
   "metadata": {},
   "source": [
    "With such large values and the significance level of 0.05, we do not have enough statistical evidence to reject null hypothesis.\n",
    "So we will conclude that there is no difference in these covariates in kids who went to catholic school vs kids who went to public school.( Another confirmatation that we have matched properly.) "
   ]
  },
  {
   "cell_type": "markdown",
   "metadata": {},
   "source": [
    "### Treatment effect"
   ]
  },
  {
   "cell_type": "markdown",
   "metadata": {},
   "source": [
    "Now lets look at students standaridized match score (c5r2mtsc_std) from catholic and public."
   ]
  },
  {
   "cell_type": "code",
   "execution_count": 178,
   "metadata": {},
   "outputs": [],
   "source": [
    "from sklearn.linear_model import LinearRegression"
   ]
  },
  {
   "cell_type": "code",
   "execution_count": 179,
   "metadata": {},
   "outputs": [],
   "source": [
    "\n",
    "df = df.reset_index()\n",
    "df = df.set_index('index')\n",
    "final = final.reset_index()\n",
    "final = final.set_index('index')"
   ]
  },
  {
   "cell_type": "code",
   "execution_count": 181,
   "metadata": {},
   "outputs": [
    {
     "data": {
      "text/html": [
       "<div>\n",
       "<style scoped>\n",
       "    .dataframe tbody tr th:only-of-type {\n",
       "        vertical-align: middle;\n",
       "    }\n",
       "\n",
       "    .dataframe tbody tr th {\n",
       "        vertical-align: top;\n",
       "    }\n",
       "\n",
       "    .dataframe thead th {\n",
       "        text-align: right;\n",
       "    }\n",
       "</style>\n",
       "<table border=\"1\" class=\"dataframe\">\n",
       "  <thead>\n",
       "    <tr style=\"text-align: right;\">\n",
       "      <th></th>\n",
       "      <th>catholic</th>\n",
       "      <th>race_white</th>\n",
       "      <th>p5hmage</th>\n",
       "      <th>p5numpla</th>\n",
       "      <th>w3momed_hsb</th>\n",
       "      <th>c5r2mtsc_std</th>\n",
       "      <th>w3income_1k</th>\n",
       "      <th>prop_score</th>\n",
       "      <th>logit_score</th>\n",
       "    </tr>\n",
       "    <tr>\n",
       "      <th>index</th>\n",
       "      <th></th>\n",
       "      <th></th>\n",
       "      <th></th>\n",
       "      <th></th>\n",
       "      <th></th>\n",
       "      <th></th>\n",
       "      <th></th>\n",
       "      <th></th>\n",
       "      <th></th>\n",
       "    </tr>\n",
       "  </thead>\n",
       "  <tbody>\n",
       "    <tr>\n",
       "      <th>3</th>\n",
       "      <td>1</td>\n",
       "      <td>1</td>\n",
       "      <td>38.0</td>\n",
       "      <td>1.0</td>\n",
       "      <td>0.0</td>\n",
       "      <td>1.451278</td>\n",
       "      <td>87.5005</td>\n",
       "      <td>0.216810</td>\n",
       "      <td>0.215402</td>\n",
       "    </tr>\n",
       "    <tr>\n",
       "      <th>33</th>\n",
       "      <td>1</td>\n",
       "      <td>1</td>\n",
       "      <td>39.0</td>\n",
       "      <td>2.0</td>\n",
       "      <td>0.0</td>\n",
       "      <td>0.157383</td>\n",
       "      <td>62.5005</td>\n",
       "      <td>0.166210</td>\n",
       "      <td>0.169386</td>\n",
       "    </tr>\n",
       "    <tr>\n",
       "      <th>34</th>\n",
       "      <td>1</td>\n",
       "      <td>1</td>\n",
       "      <td>41.0</td>\n",
       "      <td>2.0</td>\n",
       "      <td>0.0</td>\n",
       "      <td>1.485352</td>\n",
       "      <td>150.0005</td>\n",
       "      <td>0.284338</td>\n",
       "      <td>0.290602</td>\n",
       "    </tr>\n",
       "    <tr>\n",
       "      <th>35</th>\n",
       "      <td>1</td>\n",
       "      <td>1</td>\n",
       "      <td>35.0</td>\n",
       "      <td>1.0</td>\n",
       "      <td>0.0</td>\n",
       "      <td>-0.501969</td>\n",
       "      <td>87.5005</td>\n",
       "      <td>0.203779</td>\n",
       "      <td>0.200958</td>\n",
       "    </tr>\n",
       "    <tr>\n",
       "      <th>36</th>\n",
       "      <td>1</td>\n",
       "      <td>1</td>\n",
       "      <td>41.0</td>\n",
       "      <td>1.0</td>\n",
       "      <td>0.0</td>\n",
       "      <td>-0.204360</td>\n",
       "      <td>150.0005</td>\n",
       "      <td>0.320688</td>\n",
       "      <td>0.321143</td>\n",
       "    </tr>\n",
       "  </tbody>\n",
       "</table>\n",
       "</div>"
      ],
      "text/plain": [
       "       catholic  race_white  p5hmage  p5numpla  w3momed_hsb  c5r2mtsc_std  \\\n",
       "index                                                                       \n",
       "3             1           1     38.0       1.0          0.0      1.451278   \n",
       "33            1           1     39.0       2.0          0.0      0.157383   \n",
       "34            1           1     41.0       2.0          0.0      1.485352   \n",
       "35            1           1     35.0       1.0          0.0     -0.501969   \n",
       "36            1           1     41.0       1.0          0.0     -0.204360   \n",
       "\n",
       "       w3income_1k  prop_score  logit_score  \n",
       "index                                        \n",
       "3          87.5005    0.216810     0.215402  \n",
       "33         62.5005    0.166210     0.169386  \n",
       "34        150.0005    0.284338     0.290602  \n",
       "35         87.5005    0.203779     0.200958  \n",
       "36        150.0005    0.320688     0.321143  "
      ]
     },
     "execution_count": 181,
     "metadata": {},
     "output_type": "execute_result"
    }
   ],
   "source": [
    "final.head()"
   ]
  },
  {
   "cell_type": "markdown",
   "metadata": {},
   "source": [
    "### Using only catholic variable"
   ]
  },
  {
   "cell_type": "code",
   "execution_count": 184,
   "metadata": {},
   "outputs": [
    {
     "data": {
      "text/plain": [
       "0.006637661737108891"
      ]
     },
     "execution_count": 184,
     "metadata": {},
     "output_type": "execute_result"
    }
   ],
   "source": [
    "lr = LinearRegression().fit(final[['catholic']], final.c5r2mtsc_std)\n",
    "lr.score(final[['catholic']], final.c5r2mtsc_std)"
   ]
  },
  {
   "cell_type": "code",
   "execution_count": 185,
   "metadata": {},
   "outputs": [
    {
     "data": {
      "text/html": [
       "<table class=\"simpletable\">\n",
       "<caption>OLS Regression Results</caption>\n",
       "<tr>\n",
       "  <th>Dep. Variable:</th>      <td>c5r2mtsc_std</td>   <th>  R-squared:         </th> <td>   0.007</td>\n",
       "</tr>\n",
       "<tr>\n",
       "  <th>Model:</th>                   <td>OLS</td>       <th>  Adj. R-squared:    </th> <td>   0.006</td>\n",
       "</tr>\n",
       "<tr>\n",
       "  <th>Method:</th>             <td>Least Squares</td>  <th>  F-statistic:       </th> <td>   18.05</td>\n",
       "</tr>\n",
       "<tr>\n",
       "  <th>Date:</th>             <td>Fri, 06 Apr 2018</td> <th>  Prob (F-statistic):</th> <td>2.22e-05</td>\n",
       "</tr>\n",
       "<tr>\n",
       "  <th>Time:</th>                 <td>16:08:50</td>     <th>  Log-Likelihood:    </th> <td> -3588.8</td>\n",
       "</tr>\n",
       "<tr>\n",
       "  <th>No. Observations:</th>      <td>  2704</td>      <th>  AIC:               </th> <td>   7182.</td>\n",
       "</tr>\n",
       "<tr>\n",
       "  <th>Df Residuals:</th>          <td>  2702</td>      <th>  BIC:               </th> <td>   7193.</td>\n",
       "</tr>\n",
       "<tr>\n",
       "  <th>Df Model:</th>              <td>     1</td>      <th>                     </th>     <td> </td>   \n",
       "</tr>\n",
       "<tr>\n",
       "  <th>Covariance Type:</th>      <td>nonrobust</td>    <th>                     </th>     <td> </td>   \n",
       "</tr>\n",
       "</table>\n",
       "<table class=\"simpletable\">\n",
       "<tr>\n",
       "          <td></td>            <th>coef</th>     <th>std err</th>      <th>t</th>      <th>P>|t|</th>  <th>[0.025</th>    <th>0.975]</th>  \n",
       "</tr>\n",
       "<tr>\n",
       "  <th>Intercept</th>        <td>    0.3588</td> <td>    0.025</td> <td>   14.456</td> <td> 0.000</td> <td>    0.310</td> <td>    0.407</td>\n",
       "</tr>\n",
       "<tr>\n",
       "  <th>C(catholic)[T.1]</th> <td>   -0.1492</td> <td>    0.035</td> <td>   -4.249</td> <td> 0.000</td> <td>   -0.218</td> <td>   -0.080</td>\n",
       "</tr>\n",
       "</table>\n",
       "<table class=\"simpletable\">\n",
       "<tr>\n",
       "  <th>Omnibus:</th>       <td>29.038</td> <th>  Durbin-Watson:     </th> <td>   1.827</td>\n",
       "</tr>\n",
       "<tr>\n",
       "  <th>Prob(Omnibus):</th> <td> 0.000</td> <th>  Jarque-Bera (JB):  </th> <td>  29.731</td>\n",
       "</tr>\n",
       "<tr>\n",
       "  <th>Skew:</th>          <td>-0.248</td> <th>  Prob(JB):          </th> <td>3.50e-07</td>\n",
       "</tr>\n",
       "<tr>\n",
       "  <th>Kurtosis:</th>      <td> 3.134</td> <th>  Cond. No.          </th> <td>    2.62</td>\n",
       "</tr>\n",
       "</table>"
      ],
      "text/plain": [
       "<class 'statsmodels.iolib.summary.Summary'>\n",
       "\"\"\"\n",
       "                            OLS Regression Results                            \n",
       "==============================================================================\n",
       "Dep. Variable:           c5r2mtsc_std   R-squared:                       0.007\n",
       "Model:                            OLS   Adj. R-squared:                  0.006\n",
       "Method:                 Least Squares   F-statistic:                     18.05\n",
       "Date:                Fri, 06 Apr 2018   Prob (F-statistic):           2.22e-05\n",
       "Time:                        16:08:50   Log-Likelihood:                -3588.8\n",
       "No. Observations:                2704   AIC:                             7182.\n",
       "Df Residuals:                    2702   BIC:                             7193.\n",
       "Df Model:                           1                                         \n",
       "Covariance Type:            nonrobust                                         \n",
       "====================================================================================\n",
       "                       coef    std err          t      P>|t|      [0.025      0.975]\n",
       "------------------------------------------------------------------------------------\n",
       "Intercept            0.3588      0.025     14.456      0.000       0.310       0.407\n",
       "C(catholic)[T.1]    -0.1492      0.035     -4.249      0.000      -0.218      -0.080\n",
       "==============================================================================\n",
       "Omnibus:                       29.038   Durbin-Watson:                   1.827\n",
       "Prob(Omnibus):                  0.000   Jarque-Bera (JB):               29.731\n",
       "Skew:                          -0.248   Prob(JB):                     3.50e-07\n",
       "Kurtosis:                       3.134   Cond. No.                         2.62\n",
       "==============================================================================\n",
       "\n",
       "Warnings:\n",
       "[1] Standard Errors assume that the covariance matrix of the errors is correctly specified.\n",
       "\"\"\""
      ]
     },
     "execution_count": 185,
     "metadata": {},
     "output_type": "execute_result"
    }
   ],
   "source": [
    "ols = api.ols('c5r2mtsc_std ~ C(catholic)', data = final).fit()\n",
    "ols.summary()"
   ]
  },
  {
   "cell_type": "markdown",
   "metadata": {},
   "source": [
    "Conclusion: Since the R-squared is negligiblle we will conclude that changes in standarized math score can not be reduced from just catholic variable."
   ]
  },
  {
   "cell_type": "markdown",
   "metadata": {},
   "source": [
    "### Using other covariates as well"
   ]
  },
  {
   "cell_type": "code",
   "execution_count": 186,
   "metadata": {},
   "outputs": [
    {
     "data": {
      "text/plain": [
       "0.1168335281545424"
      ]
     },
     "execution_count": 186,
     "metadata": {},
     "output_type": "execute_result"
    }
   ],
   "source": [
    "lr = LinearRegression().fit(final[['catholic', 'race_white', 'p5hmage','w3income_1k','p5numpla','w3momed_hsb']], \n",
    "                            final.c5r2mtsc_std)\n",
    "lr.score(final[['catholic', 'race_white', 'p5hmage','w3income_1k','p5numpla','w3momed_hsb']], final.c5r2mtsc_std)"
   ]
  },
  {
   "cell_type": "code",
   "execution_count": 187,
   "metadata": {},
   "outputs": [
    {
     "data": {
      "text/html": [
       "<table class=\"simpletable\">\n",
       "<caption>OLS Regression Results</caption>\n",
       "<tr>\n",
       "  <th>Dep. Variable:</th>      <td>c5r2mtsc_std</td>   <th>  R-squared:         </th> <td>   0.117</td>\n",
       "</tr>\n",
       "<tr>\n",
       "  <th>Model:</th>                   <td>OLS</td>       <th>  Adj. R-squared:    </th> <td>   0.115</td>\n",
       "</tr>\n",
       "<tr>\n",
       "  <th>Method:</th>             <td>Least Squares</td>  <th>  F-statistic:       </th> <td>   59.46</td>\n",
       "</tr>\n",
       "<tr>\n",
       "  <th>Date:</th>             <td>Fri, 06 Apr 2018</td> <th>  Prob (F-statistic):</th> <td>2.18e-69</td>\n",
       "</tr>\n",
       "<tr>\n",
       "  <th>Time:</th>                 <td>16:08:57</td>     <th>  Log-Likelihood:    </th> <td> -3429.8</td>\n",
       "</tr>\n",
       "<tr>\n",
       "  <th>No. Observations:</th>      <td>  2704</td>      <th>  AIC:               </th> <td>   6874.</td>\n",
       "</tr>\n",
       "<tr>\n",
       "  <th>Df Residuals:</th>          <td>  2697</td>      <th>  BIC:               </th> <td>   6915.</td>\n",
       "</tr>\n",
       "<tr>\n",
       "  <th>Df Model:</th>              <td>     6</td>      <th>                     </th>     <td> </td>   \n",
       "</tr>\n",
       "<tr>\n",
       "  <th>Covariance Type:</th>      <td>nonrobust</td>    <th>                     </th>     <td> </td>   \n",
       "</tr>\n",
       "</table>\n",
       "<table class=\"simpletable\">\n",
       "<tr>\n",
       "           <td></td>             <th>coef</th>     <th>std err</th>      <th>t</th>      <th>P>|t|</th>  <th>[0.025</th>    <th>0.975]</th>  \n",
       "</tr>\n",
       "<tr>\n",
       "  <th>Intercept</th>          <td>   -0.4789</td> <td>    0.148</td> <td>   -3.232</td> <td> 0.001</td> <td>   -0.769</td> <td>   -0.188</td>\n",
       "</tr>\n",
       "<tr>\n",
       "  <th>C(catholic)[T.1]</th>   <td>   -0.1481</td> <td>    0.033</td> <td>   -4.468</td> <td> 0.000</td> <td>   -0.213</td> <td>   -0.083</td>\n",
       "</tr>\n",
       "<tr>\n",
       "  <th>C(race_white)[T.1]</th> <td>    0.3107</td> <td>    0.039</td> <td>    8.060</td> <td> 0.000</td> <td>    0.235</td> <td>    0.386</td>\n",
       "</tr>\n",
       "<tr>\n",
       "  <th>p5hmage</th>            <td>    0.0118</td> <td>    0.003</td> <td>    3.661</td> <td> 0.000</td> <td>    0.005</td> <td>    0.018</td>\n",
       "</tr>\n",
       "<tr>\n",
       "  <th>w3income_1k</th>        <td>    0.0032</td> <td>    0.000</td> <td>    8.498</td> <td> 0.000</td> <td>    0.002</td> <td>    0.004</td>\n",
       "</tr>\n",
       "<tr>\n",
       "  <th>p5numpla</th>           <td>   -0.0409</td> <td>    0.055</td> <td>   -0.740</td> <td> 0.459</td> <td>   -0.149</td> <td>    0.067</td>\n",
       "</tr>\n",
       "<tr>\n",
       "  <th>w3momed_hsb</th>        <td>   -0.3578</td> <td>    0.041</td> <td>   -8.664</td> <td> 0.000</td> <td>   -0.439</td> <td>   -0.277</td>\n",
       "</tr>\n",
       "</table>\n",
       "<table class=\"simpletable\">\n",
       "<tr>\n",
       "  <th>Omnibus:</th>       <td>24.346</td> <th>  Durbin-Watson:     </th> <td>   1.921</td>\n",
       "</tr>\n",
       "<tr>\n",
       "  <th>Prob(Omnibus):</th> <td> 0.000</td> <th>  Jarque-Bera (JB):  </th> <td>  24.889</td>\n",
       "</tr>\n",
       "<tr>\n",
       "  <th>Skew:</th>          <td>-0.221</td> <th>  Prob(JB):          </th> <td>3.94e-06</td>\n",
       "</tr>\n",
       "<tr>\n",
       "  <th>Kurtosis:</th>      <td> 3.158</td> <th>  Cond. No.          </th> <td>    919.</td>\n",
       "</tr>\n",
       "</table>"
      ],
      "text/plain": [
       "<class 'statsmodels.iolib.summary.Summary'>\n",
       "\"\"\"\n",
       "                            OLS Regression Results                            \n",
       "==============================================================================\n",
       "Dep. Variable:           c5r2mtsc_std   R-squared:                       0.117\n",
       "Model:                            OLS   Adj. R-squared:                  0.115\n",
       "Method:                 Least Squares   F-statistic:                     59.46\n",
       "Date:                Fri, 06 Apr 2018   Prob (F-statistic):           2.18e-69\n",
       "Time:                        16:08:57   Log-Likelihood:                -3429.8\n",
       "No. Observations:                2704   AIC:                             6874.\n",
       "Df Residuals:                    2697   BIC:                             6915.\n",
       "Df Model:                           6                                         \n",
       "Covariance Type:            nonrobust                                         \n",
       "======================================================================================\n",
       "                         coef    std err          t      P>|t|      [0.025      0.975]\n",
       "--------------------------------------------------------------------------------------\n",
       "Intercept             -0.4789      0.148     -3.232      0.001      -0.769      -0.188\n",
       "C(catholic)[T.1]      -0.1481      0.033     -4.468      0.000      -0.213      -0.083\n",
       "C(race_white)[T.1]     0.3107      0.039      8.060      0.000       0.235       0.386\n",
       "p5hmage                0.0118      0.003      3.661      0.000       0.005       0.018\n",
       "w3income_1k            0.0032      0.000      8.498      0.000       0.002       0.004\n",
       "p5numpla              -0.0409      0.055     -0.740      0.459      -0.149       0.067\n",
       "w3momed_hsb           -0.3578      0.041     -8.664      0.000      -0.439      -0.277\n",
       "==============================================================================\n",
       "Omnibus:                       24.346   Durbin-Watson:                   1.921\n",
       "Prob(Omnibus):                  0.000   Jarque-Bera (JB):               24.889\n",
       "Skew:                          -0.221   Prob(JB):                     3.94e-06\n",
       "Kurtosis:                       3.158   Cond. No.                         919.\n",
       "==============================================================================\n",
       "\n",
       "Warnings:\n",
       "[1] Standard Errors assume that the covariance matrix of the errors is correctly specified.\n",
       "\"\"\""
      ]
     },
     "execution_count": 187,
     "metadata": {},
     "output_type": "execute_result"
    }
   ],
   "source": [
    "ols = api.ols('c5r2mtsc_std ~ C(catholic)+C(race_white)+p5hmage+w3income_1k+p5numpla+w3momed_hsb', data = final).fit()\n",
    "ols.summary()"
   ]
  },
  {
   "cell_type": "markdown",
   "metadata": {},
   "source": [
    "Conclusion: Even adding few covariaties we have a very low R-squread. So we will conclude these covariates can not explain the changes in the standaried math score."
   ]
  },
  {
   "cell_type": "code",
   "execution_count": 190,
   "metadata": {},
   "outputs": [
    {
     "data": {
      "text/html": [
       "<div>\n",
       "<style scoped>\n",
       "    .dataframe tbody tr th:only-of-type {\n",
       "        vertical-align: middle;\n",
       "    }\n",
       "\n",
       "    .dataframe tbody tr th {\n",
       "        vertical-align: top;\n",
       "    }\n",
       "\n",
       "    .dataframe thead tr th {\n",
       "        text-align: left;\n",
       "    }\n",
       "\n",
       "    .dataframe thead tr:last-of-type th {\n",
       "        text-align: right;\n",
       "    }\n",
       "</style>\n",
       "<table border=\"1\" class=\"dataframe\">\n",
       "  <thead>\n",
       "    <tr>\n",
       "      <th></th>\n",
       "      <th colspan=\"3\" halign=\"left\">c5r2mtsc_std</th>\n",
       "    </tr>\n",
       "    <tr>\n",
       "      <th></th>\n",
       "      <th>count</th>\n",
       "      <th>mean</th>\n",
       "      <th>sem</th>\n",
       "    </tr>\n",
       "    <tr>\n",
       "      <th>catholic</th>\n",
       "      <th></th>\n",
       "      <th></th>\n",
       "      <th></th>\n",
       "    </tr>\n",
       "  </thead>\n",
       "  <tbody>\n",
       "    <tr>\n",
       "      <th>0</th>\n",
       "      <td>1352</td>\n",
       "      <td>0.358825</td>\n",
       "      <td>0.026009</td>\n",
       "    </tr>\n",
       "    <tr>\n",
       "      <th>1</th>\n",
       "      <td>1352</td>\n",
       "      <td>0.209668</td>\n",
       "      <td>0.023575</td>\n",
       "    </tr>\n",
       "  </tbody>\n",
       "</table>\n",
       "</div>"
      ],
      "text/plain": [
       "         c5r2mtsc_std                    \n",
       "                count      mean       sem\n",
       "catholic                                 \n",
       "0                1352  0.358825  0.026009\n",
       "1                1352  0.209668  0.023575"
      ]
     },
     "execution_count": 190,
     "metadata": {},
     "output_type": "execute_result"
    }
   ],
   "source": [
    "final[['catholic', 'c5r2mtsc_std']].groupby(['catholic']).agg(['count','mean','sem'])"
   ]
  },
  {
   "cell_type": "markdown",
   "metadata": {},
   "source": [
    "### Notive the mean here. Before matching we saw that the average math score for catholic students was higher than public students but after matching we are seeing that the average math score for public students is higher than catholic students."
   ]
  },
  {
   "cell_type": "markdown",
   "metadata": {},
   "source": [
    "### (The story can be different when we add more covariates on regression and also for matching purposes, however we will conclude what we have seen from above analysis.) \n",
    "1. Average math score of students attending public school is higher than that of students attending catholic school.\n",
    "2. We do not see enough evidence that the changes in math score can be reduced from covariates we were using."
   ]
  }
 ],
 "metadata": {
  "kernelspec": {
   "display_name": "Python 3",
   "language": "python",
   "name": "python3"
  },
  "language_info": {
   "codemirror_mode": {
    "name": "ipython",
    "version": 3
   },
   "file_extension": ".py",
   "mimetype": "text/x-python",
   "name": "python",
   "nbconvert_exporter": "python",
   "pygments_lexer": "ipython3",
   "version": "3.4.7"
  }
 },
 "nbformat": 4,
 "nbformat_minor": 2
}
