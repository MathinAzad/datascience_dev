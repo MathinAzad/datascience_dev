{
 "cells": [
  {
   "cell_type": "markdown",
   "metadata": {},
   "source": [
    "## Examine the effect of going to Catholic school vs Public school.\n",
    "#### Data from 'Early Childhood Longitudinal Study' is downloaded from https://www.researchconnections.org/childcare/studies/4075?q=c5r2mtsc&type=Data+Sets\n",
    "Data preprocessing work is based on the work of sejdemyr 'https://github.com/sejdemyr/ecls'."
   ]
  },
  {
   "cell_type": "code",
   "execution_count": 1,
   "metadata": {},
   "outputs": [],
   "source": [
    "import sys\n",
    "sys.path.append('/analytics/shared/packages/')"
   ]
  },
  {
   "cell_type": "code",
   "execution_count": 2,
   "metadata": {},
   "outputs": [],
   "source": [
    "import pandas as pd\n",
    "from scipy import stats\n",
    "from sklearn.linear_model import LogisticRegression\n",
    "import statsmodels.discrete.discrete_model as sm\n",
    "from statsmodels.formula import api\n",
    "from patsy import dmatrices\n",
    "import matplotlib.pyplot as plt\n",
    "import seaborn as sns\n",
    "%matplotlib inline"
   ]
  },
  {
   "cell_type": "code",
   "execution_count": 20,
   "metadata": {},
   "outputs": [],
   "source": [
    "import numpy as np"
   ]
  },
  {
   "cell_type": "code",
   "execution_count": 3,
   "metadata": {},
   "outputs": [
    {
     "data": {
      "text/html": [
       "<div>\n",
       "<style scoped>\n",
       "    .dataframe tbody tr th:only-of-type {\n",
       "        vertical-align: middle;\n",
       "    }\n",
       "\n",
       "    .dataframe tbody tr th {\n",
       "        vertical-align: top;\n",
       "    }\n",
       "\n",
       "    .dataframe thead th {\n",
       "        text-align: right;\n",
       "    }\n",
       "</style>\n",
       "<table border=\"1\" class=\"dataframe\">\n",
       "  <thead>\n",
       "    <tr style=\"text-align: right;\">\n",
       "      <th></th>\n",
       "      <th>childid</th>\n",
       "      <th>catholic</th>\n",
       "      <th>race</th>\n",
       "      <th>race_white</th>\n",
       "      <th>race_black</th>\n",
       "      <th>race_hispanic</th>\n",
       "      <th>race_asian</th>\n",
       "      <th>p5numpla</th>\n",
       "      <th>p5hmage</th>\n",
       "      <th>p5hdage</th>\n",
       "      <th>...</th>\n",
       "      <th>w3daded_hsb</th>\n",
       "      <th>w3momed_hsb</th>\n",
       "      <th>w3momscr</th>\n",
       "      <th>w3dadscr</th>\n",
       "      <th>w3inccat</th>\n",
       "      <th>w3income</th>\n",
       "      <th>w3povrty</th>\n",
       "      <th>p5fstamp</th>\n",
       "      <th>c5r2mtsc</th>\n",
       "      <th>c5r2mtsc_std</th>\n",
       "    </tr>\n",
       "  </thead>\n",
       "  <tbody>\n",
       "    <tr>\n",
       "      <th>6183</th>\n",
       "      <td>0785008C</td>\n",
       "      <td>0</td>\n",
       "      <td>WHITE, NON-HISPANIC</td>\n",
       "      <td>1</td>\n",
       "      <td>0</td>\n",
       "      <td>0</td>\n",
       "      <td>0</td>\n",
       "      <td>1.0</td>\n",
       "      <td>42.0</td>\n",
       "      <td>45.0</td>\n",
       "      <td>...</td>\n",
       "      <td>0.0</td>\n",
       "      <td>1.0</td>\n",
       "      <td>38.18</td>\n",
       "      <td>33.42</td>\n",
       "      <td>$40,001 TO $50,000</td>\n",
       "      <td>45000.5</td>\n",
       "      <td>0.0</td>\n",
       "      <td>0.0</td>\n",
       "      <td>48.455</td>\n",
       "      <td>-0.211154</td>\n",
       "    </tr>\n",
       "    <tr>\n",
       "      <th>3164</th>\n",
       "      <td>0404011C</td>\n",
       "      <td>1</td>\n",
       "      <td>WHITE, NON-HISPANIC</td>\n",
       "      <td>1</td>\n",
       "      <td>0</td>\n",
       "      <td>0</td>\n",
       "      <td>0</td>\n",
       "      <td>1.0</td>\n",
       "      <td>36.0</td>\n",
       "      <td>38.0</td>\n",
       "      <td>...</td>\n",
       "      <td>0.0</td>\n",
       "      <td>0.0</td>\n",
       "      <td>77.50</td>\n",
       "      <td>53.50</td>\n",
       "      <td>$50,001 TO $75,000</td>\n",
       "      <td>62500.5</td>\n",
       "      <td>0.0</td>\n",
       "      <td>0.0</td>\n",
       "      <td>61.439</td>\n",
       "      <td>1.125462</td>\n",
       "    </tr>\n",
       "    <tr>\n",
       "      <th>9681</th>\n",
       "      <td>1253025C</td>\n",
       "      <td>1</td>\n",
       "      <td>HISPANIC, RACE NOT SPECIFIED</td>\n",
       "      <td>0</td>\n",
       "      <td>0</td>\n",
       "      <td>1</td>\n",
       "      <td>0</td>\n",
       "      <td>1.0</td>\n",
       "      <td>31.0</td>\n",
       "      <td>37.0</td>\n",
       "      <td>...</td>\n",
       "      <td>0.0</td>\n",
       "      <td>0.0</td>\n",
       "      <td>34.95</td>\n",
       "      <td>NaN</td>\n",
       "      <td>$5,000 TO $5,000</td>\n",
       "      <td>5000.0</td>\n",
       "      <td>1.0</td>\n",
       "      <td>0.0</td>\n",
       "      <td>58.775</td>\n",
       "      <td>0.851221</td>\n",
       "    </tr>\n",
       "    <tr>\n",
       "      <th>10509</th>\n",
       "      <td>3030003C</td>\n",
       "      <td>0</td>\n",
       "      <td>WHITE, NON-HISPANIC</td>\n",
       "      <td>1</td>\n",
       "      <td>0</td>\n",
       "      <td>0</td>\n",
       "      <td>0</td>\n",
       "      <td>1.0</td>\n",
       "      <td>41.0</td>\n",
       "      <td>38.0</td>\n",
       "      <td>...</td>\n",
       "      <td>0.0</td>\n",
       "      <td>0.0</td>\n",
       "      <td>48.69</td>\n",
       "      <td>35.92</td>\n",
       "      <td>$50,001 TO $75,000</td>\n",
       "      <td>62500.5</td>\n",
       "      <td>0.0</td>\n",
       "      <td>0.0</td>\n",
       "      <td>60.365</td>\n",
       "      <td>1.014901</td>\n",
       "    </tr>\n",
       "    <tr>\n",
       "      <th>2521</th>\n",
       "      <td>0330004C</td>\n",
       "      <td>0</td>\n",
       "      <td>WHITE, NON-HISPANIC</td>\n",
       "      <td>1</td>\n",
       "      <td>0</td>\n",
       "      <td>0</td>\n",
       "      <td>0</td>\n",
       "      <td>2.0</td>\n",
       "      <td>38.0</td>\n",
       "      <td>44.0</td>\n",
       "      <td>...</td>\n",
       "      <td>1.0</td>\n",
       "      <td>0.0</td>\n",
       "      <td>35.92</td>\n",
       "      <td>39.18</td>\n",
       "      <td>$50,001 TO $75,000</td>\n",
       "      <td>62500.5</td>\n",
       "      <td>0.0</td>\n",
       "      <td>0.0</td>\n",
       "      <td>57.548</td>\n",
       "      <td>0.724910</td>\n",
       "    </tr>\n",
       "  </tbody>\n",
       "</table>\n",
       "<p>5 rows × 22 columns</p>\n",
       "</div>"
      ],
      "text/plain": [
       "        childid  catholic                          race  race_white  \\\n",
       "6183   0785008C         0           WHITE, NON-HISPANIC           1   \n",
       "3164   0404011C         1           WHITE, NON-HISPANIC           1   \n",
       "9681   1253025C         1  HISPANIC, RACE NOT SPECIFIED           0   \n",
       "10509  3030003C         0           WHITE, NON-HISPANIC           1   \n",
       "2521   0330004C         0           WHITE, NON-HISPANIC           1   \n",
       "\n",
       "       race_black  race_hispanic  race_asian  p5numpla  p5hmage  p5hdage  \\\n",
       "6183            0              0           0       1.0     42.0     45.0   \n",
       "3164            0              0           0       1.0     36.0     38.0   \n",
       "9681            0              1           0       1.0     31.0     37.0   \n",
       "10509           0              0           0       1.0     41.0     38.0   \n",
       "2521            0              0           0       2.0     38.0     44.0   \n",
       "\n",
       "           ...      w3daded_hsb w3momed_hsb  w3momscr  w3dadscr  \\\n",
       "6183       ...              0.0         1.0     38.18     33.42   \n",
       "3164       ...              0.0         0.0     77.50     53.50   \n",
       "9681       ...              0.0         0.0     34.95       NaN   \n",
       "10509      ...              0.0         0.0     48.69     35.92   \n",
       "2521       ...              1.0         0.0     35.92     39.18   \n",
       "\n",
       "                 w3inccat  w3income w3povrty  p5fstamp  c5r2mtsc  c5r2mtsc_std  \n",
       "6183   $40,001 TO $50,000   45000.5      0.0       0.0    48.455     -0.211154  \n",
       "3164   $50,001 TO $75,000   62500.5      0.0       0.0    61.439      1.125462  \n",
       "9681     $5,000 TO $5,000    5000.0      1.0       0.0    58.775      0.851221  \n",
       "10509  $50,001 TO $75,000   62500.5      0.0       0.0    60.365      1.014901  \n",
       "2521   $50,001 TO $75,000   62500.5      0.0       0.0    57.548      0.724910  \n",
       "\n",
       "[5 rows x 22 columns]"
      ]
     },
     "execution_count": 3,
     "metadata": {},
     "output_type": "execute_result"
    }
   ],
   "source": [
    "df = pd.read_csv('data/ecls.csv', encoding='UTF-8')\n",
    "df.sample(5)"
   ]
  },
  {
   "cell_type": "markdown",
   "metadata": {},
   "source": [
    "## 1.Pre-Analysis using non-matched data\n",
    "### 1.1 Difference in means: outcome variables"
   ]
  },
  {
   "cell_type": "markdown",
   "metadata": {},
   "source": [
    "Looking at students standaridized match score (c5r2mtsc_std) of students from catholic ( catholic = 1) and public (catholic = 0) schools."
   ]
  },
  {
   "cell_type": "code",
   "execution_count": 4,
   "metadata": {},
   "outputs": [
    {
     "data": {
      "text/html": [
       "<div>\n",
       "<style scoped>\n",
       "    .dataframe tbody tr th:only-of-type {\n",
       "        vertical-align: middle;\n",
       "    }\n",
       "\n",
       "    .dataframe tbody tr th {\n",
       "        vertical-align: top;\n",
       "    }\n",
       "\n",
       "    .dataframe thead tr th {\n",
       "        text-align: left;\n",
       "    }\n",
       "\n",
       "    .dataframe thead tr:last-of-type th {\n",
       "        text-align: right;\n",
       "    }\n",
       "</style>\n",
       "<table border=\"1\" class=\"dataframe\">\n",
       "  <thead>\n",
       "    <tr>\n",
       "      <th></th>\n",
       "      <th colspan=\"3\" halign=\"left\">c5r2mtsc_std</th>\n",
       "    </tr>\n",
       "    <tr>\n",
       "      <th></th>\n",
       "      <th>count</th>\n",
       "      <th>mean</th>\n",
       "      <th>sem</th>\n",
       "    </tr>\n",
       "    <tr>\n",
       "      <th>catholic</th>\n",
       "      <th></th>\n",
       "      <th></th>\n",
       "      <th></th>\n",
       "    </tr>\n",
       "  </thead>\n",
       "  <tbody>\n",
       "    <tr>\n",
       "      <th>0</th>\n",
       "      <td>9568</td>\n",
       "      <td>-0.030596</td>\n",
       "      <td>0.010385</td>\n",
       "    </tr>\n",
       "    <tr>\n",
       "      <th>1</th>\n",
       "      <td>1510</td>\n",
       "      <td>0.193868</td>\n",
       "      <td>0.022353</td>\n",
       "    </tr>\n",
       "  </tbody>\n",
       "</table>\n",
       "</div>"
      ],
      "text/plain": [
       "         c5r2mtsc_std                    \n",
       "                count      mean       sem\n",
       "catholic                                 \n",
       "0                9568 -0.030596  0.010385\n",
       "1                1510  0.193868  0.022353"
      ]
     },
     "execution_count": 4,
     "metadata": {},
     "output_type": "execute_result"
    }
   ],
   "source": [
    "df[['childid', 'catholic', 'c5r2mtsc_std']].groupby(['catholic']).agg(['count','mean',stats.sem])"
   ]
  },
  {
   "cell_type": "markdown",
   "metadata": {},
   "source": [
    "Since math score is standarized, we can conclude that the catholic students average math score is more than 20% of a standard deviation higher than that of public students."
   ]
  },
  {
   "cell_type": "code",
   "execution_count": 5,
   "metadata": {},
   "outputs": [
    {
     "data": {
      "text/plain": [
       "Ttest_indResult(statistic=8.129941988954517, pvalue=4.752225684279406e-16)"
      ]
     },
     "execution_count": 5,
     "metadata": {},
     "output_type": "execute_result"
    }
   ],
   "source": [
    "stats.ttest_ind(df[df.catholic == 1]['c5r2mtsc_std'],df[df.catholic == 0]['c5r2mtsc_std'] )"
   ]
  },
  {
   "cell_type": "markdown",
   "metadata": {},
   "source": [
    "Also from the ttest, we can see that the difference in average math score is statistiaclly significant. "
   ]
  },
  {
   "cell_type": "markdown",
   "metadata": {},
   "source": [
    "### 1.2 Difference in means: pre-treatment covariates"
   ]
  },
  {
   "cell_type": "markdown",
   "metadata": {},
   "source": [
    "Covariates: <br>\n",
    "    race_white: 1=yes, 0=No <br>\n",
    "    p5hmage: mothers age <br>\n",
    "    w3income: family income <br>\n",
    "    p5numpla: number of places student has lived for at least 4 months <br>\n",
    "    w3momed_hsb: is mothers education highschool or below(1), or college degree/more (0)"
   ]
  },
  {
   "cell_type": "markdown",
   "metadata": {},
   "source": [
    "### Mean for each covariates"
   ]
  },
  {
   "cell_type": "code",
   "execution_count": 6,
   "metadata": {},
   "outputs": [
    {
     "data": {
      "text/html": [
       "<div>\n",
       "<style scoped>\n",
       "    .dataframe tbody tr th:only-of-type {\n",
       "        vertical-align: middle;\n",
       "    }\n",
       "\n",
       "    .dataframe tbody tr th {\n",
       "        vertical-align: top;\n",
       "    }\n",
       "\n",
       "    .dataframe thead tr th {\n",
       "        text-align: left;\n",
       "    }\n",
       "\n",
       "    .dataframe thead tr:last-of-type th {\n",
       "        text-align: right;\n",
       "    }\n",
       "</style>\n",
       "<table border=\"1\" class=\"dataframe\">\n",
       "  <thead>\n",
       "    <tr>\n",
       "      <th></th>\n",
       "      <th>race_white</th>\n",
       "      <th>p5hmage</th>\n",
       "      <th>w3income</th>\n",
       "      <th>p5numpla</th>\n",
       "      <th>w3momed_hsb</th>\n",
       "    </tr>\n",
       "    <tr>\n",
       "      <th></th>\n",
       "      <th>mean</th>\n",
       "      <th>mean</th>\n",
       "      <th>mean</th>\n",
       "      <th>mean</th>\n",
       "      <th>mean</th>\n",
       "    </tr>\n",
       "    <tr>\n",
       "      <th>catholic</th>\n",
       "      <th></th>\n",
       "      <th></th>\n",
       "      <th></th>\n",
       "      <th></th>\n",
       "      <th></th>\n",
       "    </tr>\n",
       "  </thead>\n",
       "  <tbody>\n",
       "    <tr>\n",
       "      <th>0</th>\n",
       "      <td>0.556125</td>\n",
       "      <td>37.560970</td>\n",
       "      <td>54889.159064</td>\n",
       "      <td>1.132669</td>\n",
       "      <td>0.464092</td>\n",
       "    </tr>\n",
       "    <tr>\n",
       "      <th>1</th>\n",
       "      <td>0.725166</td>\n",
       "      <td>39.575163</td>\n",
       "      <td>82074.300501</td>\n",
       "      <td>1.092701</td>\n",
       "      <td>0.227207</td>\n",
       "    </tr>\n",
       "  </tbody>\n",
       "</table>\n",
       "</div>"
      ],
      "text/plain": [
       "         race_white    p5hmage      w3income  p5numpla w3momed_hsb\n",
       "               mean       mean          mean      mean        mean\n",
       "catholic                                                          \n",
       "0          0.556125  37.560970  54889.159064  1.132669    0.464092\n",
       "1          0.725166  39.575163  82074.300501  1.092701    0.227207"
      ]
     },
     "execution_count": 6,
     "metadata": {},
     "output_type": "execute_result"
    }
   ],
   "source": [
    "(df[['catholic', 'race_white', 'p5hmage','w3income','p5numpla','w3momed_hsb']]\n",
    " .groupby(['catholic']).agg(['mean']))"
   ]
  },
  {
   "cell_type": "code",
   "execution_count": 7,
   "metadata": {},
   "outputs": [
    {
     "name": "stdout",
     "output_type": "stream",
     "text": [
      "Variable: race_white\n",
      "Ttest_indResult(statistic=12.450367999574826, pvalue=2.398953024611241e-35)\n",
      "Variable: p5hmage\n",
      "Ttest_indResult(statistic=10.793536203115156, pvalue=5.302915317001201e-27)\n",
      "Variable: w3income\n",
      "Ttest_indResult(statistic=21.29597069456485, pvalue=2.161494782851299e-98)\n",
      "Variable: p5numpla\n",
      "Ttest_indResult(statistic=-3.5239085421140763, pvalue=0.0004272306475610962)\n",
      "Variable: w3momed_hsb\n",
      "Ttest_indResult(statistic=-16.68066304714088, pvalue=1.3607115748238347e-61)\n"
     ]
    }
   ],
   "source": [
    "for x in ['race_white', 'p5hmage','w3income','p5numpla','w3momed_hsb']:\n",
    "    print(\"Variable: \" + x)\n",
    "    print(stats.ttest_ind(df[df.catholic == 1][x].dropna(),df[df.catholic == 0][x].dropna()))\n"
   ]
  },
  {
   "cell_type": "markdown",
   "metadata": {},
   "source": [
    "From the p-value, we can see that all mean differences are statistically significant."
   ]
  },
  {
   "cell_type": "markdown",
   "metadata": {},
   "source": [
    "## 2 Propensity Score Matching"
   ]
  },
  {
   "cell_type": "code",
   "execution_count": 78,
   "metadata": {},
   "outputs": [
    {
     "data": {
      "text/html": [
       "<div>\n",
       "<style scoped>\n",
       "    .dataframe tbody tr th:only-of-type {\n",
       "        vertical-align: middle;\n",
       "    }\n",
       "\n",
       "    .dataframe tbody tr th {\n",
       "        vertical-align: top;\n",
       "    }\n",
       "\n",
       "    .dataframe thead th {\n",
       "        text-align: right;\n",
       "    }\n",
       "</style>\n",
       "<table border=\"1\" class=\"dataframe\">\n",
       "  <thead>\n",
       "    <tr style=\"text-align: right;\">\n",
       "      <th></th>\n",
       "      <th>catholic</th>\n",
       "      <th>race_white</th>\n",
       "      <th>p5hmage</th>\n",
       "      <th>p5numpla</th>\n",
       "      <th>w3momed_hsb</th>\n",
       "      <th>w3income_1k</th>\n",
       "    </tr>\n",
       "  </thead>\n",
       "  <tbody>\n",
       "    <tr>\n",
       "      <th>1786</th>\n",
       "      <td>0</td>\n",
       "      <td>1</td>\n",
       "      <td>36.0</td>\n",
       "      <td>1.0</td>\n",
       "      <td>0.0</td>\n",
       "      <td>87.5005</td>\n",
       "    </tr>\n",
       "    <tr>\n",
       "      <th>8943</th>\n",
       "      <td>0</td>\n",
       "      <td>1</td>\n",
       "      <td>34.0</td>\n",
       "      <td>1.0</td>\n",
       "      <td>0.0</td>\n",
       "      <td>87.5005</td>\n",
       "    </tr>\n",
       "    <tr>\n",
       "      <th>7598</th>\n",
       "      <td>0</td>\n",
       "      <td>0</td>\n",
       "      <td>37.0</td>\n",
       "      <td>1.0</td>\n",
       "      <td>0.0</td>\n",
       "      <td>62.5005</td>\n",
       "    </tr>\n",
       "    <tr>\n",
       "      <th>7381</th>\n",
       "      <td>0</td>\n",
       "      <td>0</td>\n",
       "      <td>29.0</td>\n",
       "      <td>1.0</td>\n",
       "      <td>1.0</td>\n",
       "      <td>45.0005</td>\n",
       "    </tr>\n",
       "    <tr>\n",
       "      <th>3273</th>\n",
       "      <td>0</td>\n",
       "      <td>1</td>\n",
       "      <td>32.0</td>\n",
       "      <td>1.0</td>\n",
       "      <td>0.0</td>\n",
       "      <td>27.5005</td>\n",
       "    </tr>\n",
       "  </tbody>\n",
       "</table>\n",
       "</div>"
      ],
      "text/plain": [
       "      catholic  race_white  p5hmage  p5numpla  w3momed_hsb  w3income_1k\n",
       "1786         0           1     36.0       1.0          0.0      87.5005\n",
       "8943         0           1     34.0       1.0          0.0      87.5005\n",
       "7598         0           0     37.0       1.0          0.0      62.5005\n",
       "7381         0           0     29.0       1.0          1.0      45.0005\n",
       "3273         0           1     32.0       1.0          0.0      27.5005"
      ]
     },
     "execution_count": 78,
     "metadata": {},
     "output_type": "execute_result"
    }
   ],
   "source": [
    "students = df[['catholic','race_white','w3income','p5hmage', 'p5numpla','w3momed_hsb']].dropna().copy()\n",
    "students['w3income_1k'] = students['w3income'].apply(lambda x: x/1000)\n",
    "students = students.drop('w3income', axis=1)\n",
    "students = students.reset_index().drop('index', axis=1)\n",
    "students.sample(5)"
   ]
  },
  {
   "cell_type": "code",
   "execution_count": 79,
   "metadata": {},
   "outputs": [
    {
     "data": {
      "text/plain": [
       "catholic         int64\n",
       "race_white       int64\n",
       "p5hmage        float64\n",
       "p5numpla       float64\n",
       "w3momed_hsb    float64\n",
       "w3income_1k    float64\n",
       "dtype: object"
      ]
     },
     "execution_count": 79,
     "metadata": {},
     "output_type": "execute_result"
    }
   ],
   "source": [
    "students.dtypes"
   ]
  },
  {
   "cell_type": "code",
   "execution_count": 80,
   "metadata": {},
   "outputs": [],
   "source": [
    "lor = LogisticRegression()\n",
    "propensity = lor.fit(students.loc[:, students.columns != 'catholic'], students.catholic)\n",
    "pscore = propensity.predict_proba(students.loc[:, students.columns != 'catholic'])[:,1]\n",
    "# probability is ordered on class lebel\n",
    "\n",
    "# score from Logistic Regression\n",
    "students['prop_score'] = pscore"
   ]
  },
  {
   "cell_type": "code",
   "execution_count": 81,
   "metadata": {},
   "outputs": [
    {
     "data": {
      "text/plain": [
       "array([-3.04773578])"
      ]
     },
     "execution_count": 81,
     "metadata": {},
     "output_type": "execute_result"
    }
   ],
   "source": [
    "lor.intercept_"
   ]
  },
  {
   "cell_type": "code",
   "execution_count": 82,
   "metadata": {},
   "outputs": [
    {
     "data": {
      "text/plain": [
       "array([[ 0.3043212 ,  0.02616123, -0.17243479, -0.70163013,  0.00728416]])"
      ]
     },
     "execution_count": 82,
     "metadata": {},
     "output_type": "execute_result"
    }
   ],
   "source": [
    "lor.coef_"
   ]
  },
  {
   "cell_type": "code",
   "execution_count": 83,
   "metadata": {},
   "outputs": [],
   "source": [
    "y, X = dmatrices('catholic ~ C(race_white) + p5hmage + p5numpla + w3momed_hsb + w3income_1k', \n",
    "                 students, return_type = 'dataframe')"
   ]
  },
  {
   "cell_type": "code",
   "execution_count": 84,
   "metadata": {},
   "outputs": [
    {
     "name": "stdout",
     "output_type": "stream",
     "text": [
      "Optimization terminated successfully.\n",
      "         Current function value: 0.386794\n",
      "         Iterations 7\n"
     ]
    }
   ],
   "source": [
    "logit = sm.Logit(y,X).fit()"
   ]
  },
  {
   "cell_type": "code",
   "execution_count": 85,
   "metadata": {},
   "outputs": [
    {
     "data": {
      "text/plain": [
       "Intercept            -3.212552\n",
       "C(race_white)[T.1]    0.314501\n",
       "p5hmage               0.029217\n",
       "p5numpla             -0.143939\n",
       "w3momed_hsb          -0.693587\n",
       "w3income_1k           0.007304\n",
       "dtype: float64"
      ]
     },
     "execution_count": 85,
     "metadata": {},
     "output_type": "execute_result"
    }
   ],
   "source": [
    "logit.params"
   ]
  },
  {
   "cell_type": "code",
   "execution_count": 86,
   "metadata": {},
   "outputs": [],
   "source": [
    "# Adding score from logit model as well\n",
    "# Logistic regression has L2 regularization by default. So the ps score from LR and Logit might not match\n",
    "students['logit_score'] = logit.predict(X)"
   ]
  },
  {
   "cell_type": "code",
   "execution_count": 87,
   "metadata": {},
   "outputs": [
    {
     "data": {
      "text/html": [
       "<div>\n",
       "<style scoped>\n",
       "    .dataframe tbody tr th:only-of-type {\n",
       "        vertical-align: middle;\n",
       "    }\n",
       "\n",
       "    .dataframe tbody tr th {\n",
       "        vertical-align: top;\n",
       "    }\n",
       "\n",
       "    .dataframe thead th {\n",
       "        text-align: right;\n",
       "    }\n",
       "</style>\n",
       "<table border=\"1\" class=\"dataframe\">\n",
       "  <thead>\n",
       "    <tr style=\"text-align: right;\">\n",
       "      <th></th>\n",
       "      <th>catholic</th>\n",
       "      <th>race_white</th>\n",
       "      <th>p5hmage</th>\n",
       "      <th>p5numpla</th>\n",
       "      <th>w3momed_hsb</th>\n",
       "      <th>w3income_1k</th>\n",
       "      <th>prop_score</th>\n",
       "      <th>logit_score</th>\n",
       "    </tr>\n",
       "  </thead>\n",
       "  <tbody>\n",
       "    <tr>\n",
       "      <th>8953</th>\n",
       "      <td>0</td>\n",
       "      <td>0</td>\n",
       "      <td>34.0</td>\n",
       "      <td>1.0</td>\n",
       "      <td>0.0</td>\n",
       "      <td>200.0010</td>\n",
       "      <td>0.294454</td>\n",
       "      <td>0.288568</td>\n",
       "    </tr>\n",
       "    <tr>\n",
       "      <th>2256</th>\n",
       "      <td>1</td>\n",
       "      <td>1</td>\n",
       "      <td>43.0</td>\n",
       "      <td>1.0</td>\n",
       "      <td>0.0</td>\n",
       "      <td>150.0005</td>\n",
       "      <td>0.332192</td>\n",
       "      <td>0.334013</td>\n",
       "    </tr>\n",
       "    <tr>\n",
       "      <th>3277</th>\n",
       "      <td>1</td>\n",
       "      <td>1</td>\n",
       "      <td>35.0</td>\n",
       "      <td>1.0</td>\n",
       "      <td>1.0</td>\n",
       "      <td>62.5005</td>\n",
       "      <td>0.095646</td>\n",
       "      <td>0.094791</td>\n",
       "    </tr>\n",
       "    <tr>\n",
       "      <th>5302</th>\n",
       "      <td>0</td>\n",
       "      <td>1</td>\n",
       "      <td>42.0</td>\n",
       "      <td>1.0</td>\n",
       "      <td>0.0</td>\n",
       "      <td>27.5005</td>\n",
       "      <td>0.165652</td>\n",
       "      <td>0.166030</td>\n",
       "    </tr>\n",
       "    <tr>\n",
       "      <th>5446</th>\n",
       "      <td>0</td>\n",
       "      <td>0</td>\n",
       "      <td>30.0</td>\n",
       "      <td>1.0</td>\n",
       "      <td>0.0</td>\n",
       "      <td>27.5005</td>\n",
       "      <td>0.096650</td>\n",
       "      <td>0.092866</td>\n",
       "    </tr>\n",
       "  </tbody>\n",
       "</table>\n",
       "</div>"
      ],
      "text/plain": [
       "      catholic  race_white  p5hmage  p5numpla  w3momed_hsb  w3income_1k  \\\n",
       "8953         0           0     34.0       1.0          0.0     200.0010   \n",
       "2256         1           1     43.0       1.0          0.0     150.0005   \n",
       "3277         1           1     35.0       1.0          1.0      62.5005   \n",
       "5302         0           1     42.0       1.0          0.0      27.5005   \n",
       "5446         0           0     30.0       1.0          0.0      27.5005   \n",
       "\n",
       "      prop_score  logit_score  \n",
       "8953    0.294454     0.288568  \n",
       "2256    0.332192     0.334013  \n",
       "3277    0.095646     0.094791  \n",
       "5302    0.165652     0.166030  \n",
       "5446    0.096650     0.092866  "
      ]
     },
     "execution_count": 87,
     "metadata": {},
     "output_type": "execute_result"
    }
   ],
   "source": [
    "students.sample(5)"
   ]
  },
  {
   "cell_type": "markdown",
   "metadata": {},
   "source": [
    "Notice the prop_score from Logistic Regression and logit_score from Logit function. They do not match exactly and are pretty close."
   ]
  },
  {
   "cell_type": "code",
   "execution_count": 88,
   "metadata": {},
   "outputs": [
    {
     "data": {
      "text/plain": [
       "Text(0.5,0.98,'Probability of going to Catholic School')"
      ]
     },
     "execution_count": 88,
     "metadata": {},
     "output_type": "execute_result"
    },
    {
     "data": {
      "image/png": "[encoded data removed]",
      "text/plain": [
       "<matplotlib.figure.Figure at 0x7fcaae609b38>"
      ]
     },
     "metadata": {},
     "output_type": "display_data"
    }
   ],
   "source": [
    "fig, (ax1, ax2) = plt.subplots(1,2, sharey=True)\n",
    "sns.distplot(students[students.catholic == 1]['logit_score'], bins= 30, kde=False, hist=True, ax= ax1)\n",
    "sns.distplot(students[students.catholic == 0]['logit_score'], bins= 30, kde=False, hist=True, ax= ax2)\n",
    "ax1.set_title(\"Catholic school attended\", fontsize=10)\n",
    "ax2.set_title(\"Public school attended\", fontsize=10)\n",
    "fig.suptitle(\"Probability of going to Catholic School\", fontsize=14)"
   ]
  },
  {
   "cell_type": "markdown",
   "metadata": {},
   "source": [
    "## 3 Matching Algorithm"
   ]
  },
  {
   "cell_type": "code",
   "execution_count": 166,
   "metadata": {},
   "outputs": [],
   "source": [
    "np.random.seed(10)\n",
    "\n",
    "def Match(groups, pscore, caliper=0.05):\n",
    "    '''\n",
    "    Inputs: \n",
    "    groups = indicator to identify control and study group. Must be two groups. Number of treated (study) records should be\n",
    "            smaller than untreated (control) records.\n",
    "    pscore = propensity scores for each observation. Groups and pscore must be in the same order ( same indices).\n",
    "    caliper = maximum difference in matched propensity scores.\n",
    "    \n",
    "    Outputs:\n",
    "    returns a dataframe with four columns\n",
    "    std_indx: index of the study record\n",
    "    std_pscore: propensity score of the study record used for matching\n",
    "    ctl_indx: index of control record that matches with the study record\n",
    "    ctl_pscore: propensity score of the control record used for matching\n",
    "    \n",
    "    '''\n",
    "    if any(pscore <= 0) or any(pscore >= 1):\n",
    "        raise ValueError('Propensity scores must be between 0 and 1')\n",
    "    elif not(0<caliper<1):\n",
    "        raise ValueError('Caliper must be between 0 and 1')\n",
    "    elif len(groups) != len(pscore):\n",
    "        raise ValueError('groups and pscore must have same dimension')\n",
    "    elif len(groups.unique()) != 2:\n",
    "        raise ValueError('wrong number of groups')\n",
    "     \n",
    "    \n",
    "    groups = groups == groups.unique()[0]\n",
    "    N = len(groups)\n",
    "    N1 = groups.sum(); \n",
    "    N2 = N - N1;\n",
    "    g1, g2 = (pscore[groups == 1]),(pscore[groups == 0])\n",
    "    # N1 is study, N2 is control\n",
    "    # assuming number of study groups is less than control groups\n",
    "    if N1 > N2:\n",
    "        N1, N2, g1, g2 = N2, N1, g2, g1\n",
    "\n",
    "    if (N1 != len(g1)) or (N2 != len(g2)):\n",
    "        raise ValueError('Number of study records must be less than control records')\n",
    "\n",
    "    morder = np.random.permutation(N1)\n",
    "    matches = pd.Series(np.empty(N1))\n",
    "    matches[:] = np.NAN\n",
    "\n",
    "    for m in morder:\n",
    "        dist = abs(g1.iloc[m] - g2)\n",
    "        if dist.min() <= caliper:\n",
    "            matches[m] = dist.idxmin()\n",
    "            g2 = g2.drop(matches[m])\n",
    "            \n",
    "    study = pd.DataFrame(g1).reset_index()\n",
    "    study.columns = ['std_indx', 'std_pscore']\n",
    "    control = pd.DataFrame(students.iloc[matches]['logit_score']).reset_index()\n",
    "    control.columns = ['ctl_indx', 'ctl_pscore']\n",
    "    \n",
    "    final_df = study.join(control)\n",
    "\n",
    "    return final_df\n",
    "        "
   ]
  },
  {
   "cell_type": "code",
   "execution_count": 167,
   "metadata": {},
   "outputs": [],
   "source": [
    "matches = Match(students.catholic, students.logit_score, 0.05)"
   ]
  },
  {
   "cell_type": "code",
   "execution_count": 170,
   "metadata": {},
   "outputs": [
    {
     "data": {
      "text/html": [
       "<div>\n",
       "<style scoped>\n",
       "    .dataframe tbody tr th:only-of-type {\n",
       "        vertical-align: middle;\n",
       "    }\n",
       "\n",
       "    .dataframe tbody tr th {\n",
       "        vertical-align: top;\n",
       "    }\n",
       "\n",
       "    .dataframe thead th {\n",
       "        text-align: right;\n",
       "    }\n",
       "</style>\n",
       "<table border=\"1\" class=\"dataframe\">\n",
       "  <thead>\n",
       "    <tr style=\"text-align: right;\">\n",
       "      <th></th>\n",
       "      <th>std_indx</th>\n",
       "      <th>std_pscore</th>\n",
       "      <th>ctl_indx</th>\n",
       "      <th>ctl_pscore</th>\n",
       "    </tr>\n",
       "  </thead>\n",
       "  <tbody>\n",
       "    <tr>\n",
       "      <th>0</th>\n",
       "      <td>3</td>\n",
       "      <td>0.215402</td>\n",
       "      <td>2257</td>\n",
       "      <td>0.215402</td>\n",
       "    </tr>\n",
       "    <tr>\n",
       "      <th>1</th>\n",
       "      <td>33</td>\n",
       "      <td>0.169386</td>\n",
       "      <td>2042</td>\n",
       "      <td>0.169386</td>\n",
       "    </tr>\n",
       "    <tr>\n",
       "      <th>2</th>\n",
       "      <td>34</td>\n",
       "      <td>0.290602</td>\n",
       "      <td>5285</td>\n",
       "      <td>0.290160</td>\n",
       "    </tr>\n",
       "    <tr>\n",
       "      <th>3</th>\n",
       "      <td>35</td>\n",
       "      <td>0.200958</td>\n",
       "      <td>2934</td>\n",
       "      <td>0.200958</td>\n",
       "    </tr>\n",
       "    <tr>\n",
       "      <th>4</th>\n",
       "      <td>36</td>\n",
       "      <td>0.321143</td>\n",
       "      <td>2456</td>\n",
       "      <td>0.321143</td>\n",
       "    </tr>\n",
       "  </tbody>\n",
       "</table>\n",
       "</div>"
      ],
      "text/plain": [
       "   std_indx  std_pscore  ctl_indx  ctl_pscore\n",
       "0         3    0.215402      2257    0.215402\n",
       "1        33    0.169386      2042    0.169386\n",
       "2        34    0.290602      5285    0.290160\n",
       "3        35    0.200958      2934    0.200958\n",
       "4        36    0.321143      2456    0.321143"
      ]
     },
     "execution_count": 170,
     "metadata": {},
     "output_type": "execute_result"
    }
   ],
   "source": [
    "matches.head()"
   ]
  },
  {
   "cell_type": "code",
   "execution_count": 173,
   "metadata": {},
   "outputs": [],
   "source": [
    "study = students.iloc[matches.std_indx]\n",
    "control = students.iloc[matches.ctl_indx]\n",
    "final = study.append(control)\n"
   ]
  },
  {
   "cell_type": "code",
   "execution_count": 178,
   "metadata": {},
   "outputs": [
    {
     "data": {
      "text/html": [
       "<div>\n",
       "<style scoped>\n",
       "    .dataframe tbody tr th:only-of-type {\n",
       "        vertical-align: middle;\n",
       "    }\n",
       "\n",
       "    .dataframe tbody tr th {\n",
       "        vertical-align: top;\n",
       "    }\n",
       "\n",
       "    .dataframe thead th {\n",
       "        text-align: right;\n",
       "    }\n",
       "</style>\n",
       "<table border=\"1\" class=\"dataframe\">\n",
       "  <thead>\n",
       "    <tr style=\"text-align: right;\">\n",
       "      <th></th>\n",
       "      <th>catholic</th>\n",
       "      <th>race_white</th>\n",
       "      <th>p5hmage</th>\n",
       "      <th>p5numpla</th>\n",
       "      <th>w3momed_hsb</th>\n",
       "      <th>w3income_1k</th>\n",
       "      <th>prop_score</th>\n",
       "      <th>logit_score</th>\n",
       "    </tr>\n",
       "  </thead>\n",
       "  <tbody>\n",
       "    <tr>\n",
       "      <th>3</th>\n",
       "      <td>1</td>\n",
       "      <td>1</td>\n",
       "      <td>38.0</td>\n",
       "      <td>1.0</td>\n",
       "      <td>0.0</td>\n",
       "      <td>87.5005</td>\n",
       "      <td>0.216810</td>\n",
       "      <td>0.215402</td>\n",
       "    </tr>\n",
       "    <tr>\n",
       "      <th>33</th>\n",
       "      <td>1</td>\n",
       "      <td>1</td>\n",
       "      <td>39.0</td>\n",
       "      <td>2.0</td>\n",
       "      <td>0.0</td>\n",
       "      <td>62.5005</td>\n",
       "      <td>0.166210</td>\n",
       "      <td>0.169386</td>\n",
       "    </tr>\n",
       "    <tr>\n",
       "      <th>34</th>\n",
       "      <td>1</td>\n",
       "      <td>1</td>\n",
       "      <td>41.0</td>\n",
       "      <td>2.0</td>\n",
       "      <td>0.0</td>\n",
       "      <td>150.0005</td>\n",
       "      <td>0.284338</td>\n",
       "      <td>0.290602</td>\n",
       "    </tr>\n",
       "    <tr>\n",
       "      <th>35</th>\n",
       "      <td>1</td>\n",
       "      <td>1</td>\n",
       "      <td>35.0</td>\n",
       "      <td>1.0</td>\n",
       "      <td>0.0</td>\n",
       "      <td>87.5005</td>\n",
       "      <td>0.203779</td>\n",
       "      <td>0.200958</td>\n",
       "    </tr>\n",
       "    <tr>\n",
       "      <th>36</th>\n",
       "      <td>1</td>\n",
       "      <td>1</td>\n",
       "      <td>41.0</td>\n",
       "      <td>1.0</td>\n",
       "      <td>0.0</td>\n",
       "      <td>150.0005</td>\n",
       "      <td>0.320688</td>\n",
       "      <td>0.321143</td>\n",
       "    </tr>\n",
       "  </tbody>\n",
       "</table>\n",
       "</div>"
      ],
      "text/plain": [
       "    catholic  race_white  p5hmage  p5numpla  w3momed_hsb  w3income_1k  \\\n",
       "3          1           1     38.0       1.0          0.0      87.5005   \n",
       "33         1           1     39.0       2.0          0.0      62.5005   \n",
       "34         1           1     41.0       2.0          0.0     150.0005   \n",
       "35         1           1     35.0       1.0          0.0      87.5005   \n",
       "36         1           1     41.0       1.0          0.0     150.0005   \n",
       "\n",
       "    prop_score  logit_score  \n",
       "3     0.216810     0.215402  \n",
       "33    0.166210     0.169386  \n",
       "34    0.284338     0.290602  \n",
       "35    0.203779     0.200958  \n",
       "36    0.320688     0.321143  "
      ]
     },
     "execution_count": 178,
     "metadata": {},
     "output_type": "execute_result"
    }
   ],
   "source": [
    "study.head(5)"
   ]
  },
  {
   "cell_type": "code",
   "execution_count": 179,
   "metadata": {},
   "outputs": [
    {
     "data": {
      "text/html": [
       "<div>\n",
       "<style scoped>\n",
       "    .dataframe tbody tr th:only-of-type {\n",
       "        vertical-align: middle;\n",
       "    }\n",
       "\n",
       "    .dataframe tbody tr th {\n",
       "        vertical-align: top;\n",
       "    }\n",
       "\n",
       "    .dataframe thead th {\n",
       "        text-align: right;\n",
       "    }\n",
       "</style>\n",
       "<table border=\"1\" class=\"dataframe\">\n",
       "  <thead>\n",
       "    <tr style=\"text-align: right;\">\n",
       "      <th></th>\n",
       "      <th>catholic</th>\n",
       "      <th>race_white</th>\n",
       "      <th>p5hmage</th>\n",
       "      <th>p5numpla</th>\n",
       "      <th>w3momed_hsb</th>\n",
       "      <th>w3income_1k</th>\n",
       "      <th>prop_score</th>\n",
       "      <th>logit_score</th>\n",
       "    </tr>\n",
       "  </thead>\n",
       "  <tbody>\n",
       "    <tr>\n",
       "      <th>2257</th>\n",
       "      <td>0</td>\n",
       "      <td>1</td>\n",
       "      <td>38.0</td>\n",
       "      <td>1.0</td>\n",
       "      <td>0.0</td>\n",
       "      <td>87.5005</td>\n",
       "      <td>0.216810</td>\n",
       "      <td>0.215402</td>\n",
       "    </tr>\n",
       "    <tr>\n",
       "      <th>2042</th>\n",
       "      <td>0</td>\n",
       "      <td>1</td>\n",
       "      <td>39.0</td>\n",
       "      <td>2.0</td>\n",
       "      <td>0.0</td>\n",
       "      <td>62.5005</td>\n",
       "      <td>0.166210</td>\n",
       "      <td>0.169386</td>\n",
       "    </tr>\n",
       "    <tr>\n",
       "      <th>5285</th>\n",
       "      <td>0</td>\n",
       "      <td>1</td>\n",
       "      <td>36.0</td>\n",
       "      <td>1.0</td>\n",
       "      <td>0.0</td>\n",
       "      <td>150.0005</td>\n",
       "      <td>0.292884</td>\n",
       "      <td>0.290160</td>\n",
       "    </tr>\n",
       "    <tr>\n",
       "      <th>2934</th>\n",
       "      <td>0</td>\n",
       "      <td>1</td>\n",
       "      <td>35.0</td>\n",
       "      <td>1.0</td>\n",
       "      <td>0.0</td>\n",
       "      <td>87.5005</td>\n",
       "      <td>0.203779</td>\n",
       "      <td>0.200958</td>\n",
       "    </tr>\n",
       "    <tr>\n",
       "      <th>2456</th>\n",
       "      <td>0</td>\n",
       "      <td>1</td>\n",
       "      <td>41.0</td>\n",
       "      <td>1.0</td>\n",
       "      <td>0.0</td>\n",
       "      <td>150.0005</td>\n",
       "      <td>0.320688</td>\n",
       "      <td>0.321143</td>\n",
       "    </tr>\n",
       "  </tbody>\n",
       "</table>\n",
       "</div>"
      ],
      "text/plain": [
       "      catholic  race_white  p5hmage  p5numpla  w3momed_hsb  w3income_1k  \\\n",
       "2257         0           1     38.0       1.0          0.0      87.5005   \n",
       "2042         0           1     39.0       2.0          0.0      62.5005   \n",
       "5285         0           1     36.0       1.0          0.0     150.0005   \n",
       "2934         0           1     35.0       1.0          0.0      87.5005   \n",
       "2456         0           1     41.0       1.0          0.0     150.0005   \n",
       "\n",
       "      prop_score  logit_score  \n",
       "2257    0.216810     0.215402  \n",
       "2042    0.166210     0.169386  \n",
       "5285    0.292884     0.290160  \n",
       "2934    0.203779     0.200958  \n",
       "2456    0.320688     0.321143  "
      ]
     },
     "execution_count": 179,
     "metadata": {},
     "output_type": "execute_result"
    }
   ],
   "source": [
    "control.head(5)"
   ]
  },
  {
   "cell_type": "markdown",
   "metadata": {},
   "source": [
    "If we have done matching properly, each covariates mean should match for study and control group."
   ]
  },
  {
   "cell_type": "markdown",
   "metadata": {},
   "source": [
    "### Covariates mean"
   ]
  },
  {
   "cell_type": "code",
   "execution_count": 212,
   "metadata": {},
   "outputs": [
    {
     "data": {
      "text/plain": [
       "<seaborn.axisgrid.FacetGrid at 0x7fcaab2724a8>"
      ]
     },
     "execution_count": 212,
     "metadata": {},
     "output_type": "execute_result"
    },
    {
     "data": {
      "image/png": "[encoded data removed]",
      "text/plain": [
       "<matplotlib.figure.Figure at 0x7fcaab272cf8>"
      ]
     },
     "metadata": {},
     "output_type": "display_data"
    }
   ],
   "source": [
    "sns.lmplot(x='logit_score', y='race_white', hue='catholic',\n",
    "           data = final, size = 4, fit_reg = False)\n"
   ]
  },
  {
   "cell_type": "code",
   "execution_count": 235,
   "metadata": {},
   "outputs": [
    {
     "data": {
      "image/png": "[encoded data removed]",
      "text/plain": [
       "<matplotlib.figure.Figure at 0x7fcaa663b7b8>"
      ]
     },
     "metadata": {},
     "output_type": "display_data"
    },
    {
     "data": {
      "image/png": "[encoded data removed]",
      "text/plain": [
       "<matplotlib.figure.Figure at 0x7fcaa66cec88>"
      ]
     },
     "metadata": {},
     "output_type": "display_data"
    },
    {
     "data": {
      "image/png": "[encoded data removed]",
      "text/plain": [
       "<matplotlib.figure.Figure at 0x7fcaa65ff080>"
      ]
     },
     "metadata": {},
     "output_type": "display_data"
    },
    {
     "data": {
      "image/png": "[encoded data removed]",
      "text/plain": [
       "<matplotlib.figure.Figure at 0x7fcaa65ff048>"
      ]
     },
     "metadata": {},
     "output_type": "display_data"
    },
    {
     "data": {
      "image/png": "[encoded data removed]",
      "text/plain": [
       "<matplotlib.figure.Figure at 0x7fcaa65f3908>"
      ]
     },
     "metadata": {},
     "output_type": "display_data"
    }
   ],
   "source": [
    "\n",
    "sns.lmplot(x='logit_score', y='race_white', hue='catholic',\n",
    "           data = final, size = 4, fit_reg = True)\n",
    "ax1 = plt.gca()\n",
    "ax1.set_title(\"Race_White\")\n",
    "\n",
    "sns.lmplot(x='logit_score', y='p5hmage', hue='catholic',\n",
    "           data = final, size = 4, fit_reg = True)\n",
    "ax2 = plt.gca()\n",
    "ax2.set_title(\"p5hmage\")\n",
    "\n",
    "sns.lmplot(x='logit_score', y='p5numpla', hue='catholic',\n",
    "           data = final, size = 4, fit_reg = True)\n",
    "ax3 = plt.gca()\n",
    "ax3.set_title(\"p5numpla\")\n",
    "\n",
    "sns.lmplot(x='logit_score', y='w3momed_hsb', hue='catholic',\n",
    "           data = final, size = 4, fit_reg = True)\n",
    "ax4 = plt.gca()\n",
    "ax4.set_title(\"w3momed_hsb\")\n",
    "\n",
    "sns.lmplot(x='logit_score', y='w3income_1k', hue='catholic',\n",
    "           data = final, size = 4, fit_reg = True)\n",
    "ax5 = plt.gca()\n",
    "_=ax5.set_title(\"w3income_1k\")\n"
   ]
  },
  {
   "cell_type": "markdown",
   "metadata": {},
   "source": [
    "### After matching, we can see that when we plot a regression line, it is same for both catholic and public students. However if we plot similar graphs before matching, we can see the different in the regression line. This also confirms we have removed sample imbalance with matching."
   ]
  },
  {
   "cell_type": "code",
   "execution_count": 240,
   "metadata": {},
   "outputs": [
    {
     "data": {
      "image/png": "[encoded data removed]",
      "text/plain": [
       "<matplotlib.figure.Figure at 0x7fcaa65398d0>"
      ]
     },
     "metadata": {},
     "output_type": "display_data"
    },
    {
     "data": {
      "image/png": "[encoded data removed]",
      "text/plain": [
       "<matplotlib.figure.Figure at 0x7fcaa63b5940>"
      ]
     },
     "metadata": {},
     "output_type": "display_data"
    },
    {
     "data": {
      "image/png": "[encoded data removed]",
      "text/plain": [
       "<matplotlib.figure.Figure at 0x7fcaa64de6a0>"
      ]
     },
     "metadata": {},
     "output_type": "display_data"
    },
    {
     "data": {
      "image/png": "[encoded data removed]",
      "text/plain": [
       "<matplotlib.figure.Figure at 0x7fcaa62d0358>"
      ]
     },
     "metadata": {},
     "output_type": "display_data"
    },
    {
     "data": {
      "image/png": "[encoded data removed]",
      "text/plain": [
       "<matplotlib.figure.Figure at 0x7fcaa6280860>"
      ]
     },
     "metadata": {},
     "output_type": "display_data"
    }
   ],
   "source": [
    "sns.lmplot(x='logit_score', y='race_white', hue='catholic',\n",
    "           data = students, size = 4, fit_reg = True)\n",
    "ax1 = plt.gca()\n",
    "ax1.set_title(\"Race_White (before matching)\")\n",
    "\n",
    "sns.lmplot(x='logit_score', y='p5hmage', hue='catholic',\n",
    "           data = students, size = 4, fit_reg = True)\n",
    "ax2 = plt.gca()\n",
    "ax2.set_title(\"p5hmage (before matching)\")\n",
    "\n",
    "sns.lmplot(x='logit_score', y='p5numpla', hue='catholic',\n",
    "           data = students, size = 4, fit_reg = True)\n",
    "ax3 = plt.gca()\n",
    "ax3.set_title(\"p5numpla (before matching)\")\n",
    "\n",
    "sns.lmplot(x='logit_score', y='w3momed_hsb', hue='catholic',\n",
    "           data = students, size = 4, fit_reg = True)\n",
    "ax4 = plt.gca()\n",
    "ax4.set_title(\"w3momed_hsb (before matching)\")\n",
    "\n",
    "sns.lmplot(x='logit_score', y='w3income_1k', hue='catholic',\n",
    "           data = students, size = 4, fit_reg = True)\n",
    "ax5 = plt.gca()\n",
    "_=ax5.set_title(\"w3income_1k (before matching)\")"
   ]
  },
  {
   "cell_type": "code",
   "execution_count": 238,
   "metadata": {},
   "outputs": [
    {
     "data": {
      "text/html": [
       "<div>\n",
       "<style scoped>\n",
       "    .dataframe tbody tr th:only-of-type {\n",
       "        vertical-align: middle;\n",
       "    }\n",
       "\n",
       "    .dataframe tbody tr th {\n",
       "        vertical-align: top;\n",
       "    }\n",
       "\n",
       "    .dataframe thead th {\n",
       "        text-align: right;\n",
       "    }\n",
       "</style>\n",
       "<table border=\"1\" class=\"dataframe\">\n",
       "  <thead>\n",
       "    <tr style=\"text-align: right;\">\n",
       "      <th></th>\n",
       "      <th>catholic</th>\n",
       "      <th>race_white</th>\n",
       "      <th>p5hmage</th>\n",
       "      <th>p5numpla</th>\n",
       "      <th>w3momed_hsb</th>\n",
       "      <th>w3income_1k</th>\n",
       "      <th>prop_score</th>\n",
       "      <th>logit_score</th>\n",
       "    </tr>\n",
       "  </thead>\n",
       "  <tbody>\n",
       "    <tr>\n",
       "      <th>0</th>\n",
       "      <td>0</td>\n",
       "      <td>1</td>\n",
       "      <td>47.0</td>\n",
       "      <td>1.0</td>\n",
       "      <td>0.0</td>\n",
       "      <td>62.5005</td>\n",
       "      <td>0.226005</td>\n",
       "      <td>0.229293</td>\n",
       "    </tr>\n",
       "    <tr>\n",
       "      <th>1</th>\n",
       "      <td>0</td>\n",
       "      <td>1</td>\n",
       "      <td>41.0</td>\n",
       "      <td>1.0</td>\n",
       "      <td>0.0</td>\n",
       "      <td>45.0005</td>\n",
       "      <td>0.180133</td>\n",
       "      <td>0.180136</td>\n",
       "    </tr>\n",
       "    <tr>\n",
       "      <th>2</th>\n",
       "      <td>0</td>\n",
       "      <td>1</td>\n",
       "      <td>43.0</td>\n",
       "      <td>1.0</td>\n",
       "      <td>0.0</td>\n",
       "      <td>62.5005</td>\n",
       "      <td>0.208226</td>\n",
       "      <td>0.209296</td>\n",
       "    </tr>\n",
       "    <tr>\n",
       "      <th>3</th>\n",
       "      <td>1</td>\n",
       "      <td>1</td>\n",
       "      <td>38.0</td>\n",
       "      <td>1.0</td>\n",
       "      <td>0.0</td>\n",
       "      <td>87.5005</td>\n",
       "      <td>0.216810</td>\n",
       "      <td>0.215402</td>\n",
       "    </tr>\n",
       "    <tr>\n",
       "      <th>4</th>\n",
       "      <td>0</td>\n",
       "      <td>1</td>\n",
       "      <td>47.0</td>\n",
       "      <td>1.0</td>\n",
       "      <td>0.0</td>\n",
       "      <td>150.0005</td>\n",
       "      <td>0.355799</td>\n",
       "      <td>0.360493</td>\n",
       "    </tr>\n",
       "  </tbody>\n",
       "</table>\n",
       "</div>"
      ],
      "text/plain": [
       "   catholic  race_white  p5hmage  p5numpla  w3momed_hsb  w3income_1k  \\\n",
       "0         0           1     47.0       1.0          0.0      62.5005   \n",
       "1         0           1     41.0       1.0          0.0      45.0005   \n",
       "2         0           1     43.0       1.0          0.0      62.5005   \n",
       "3         1           1     38.0       1.0          0.0      87.5005   \n",
       "4         0           1     47.0       1.0          0.0     150.0005   \n",
       "\n",
       "   prop_score  logit_score  \n",
       "0    0.226005     0.229293  \n",
       "1    0.180133     0.180136  \n",
       "2    0.208226     0.209296  \n",
       "3    0.216810     0.215402  \n",
       "4    0.355799     0.360493  "
      ]
     },
     "execution_count": 238,
     "metadata": {},
     "output_type": "execute_result"
    }
   ],
   "source": []
  },
  {
   "cell_type": "code",
   "execution_count": null,
   "metadata": {},
   "outputs": [],
   "source": []
  }
 ],
 "metadata": {
  "kernelspec": {
   "display_name": "Python 3",
   "language": "python",
   "name": "python3"
  },
  "language_info": {
   "codemirror_mode": {
    "name": "ipython",
    "version": 3
   },
   "file_extension": ".py",
   "mimetype": "text/x-python",
   "name": "python",
   "nbconvert_exporter": "python",
   "pygments_lexer": "ipython3",
   "version": "3.4.7"
  }
 },
 "nbformat": 4,
 "nbformat_minor": 2
}
